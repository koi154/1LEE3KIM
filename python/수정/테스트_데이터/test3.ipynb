{
 "cells": [
  {
   "cell_type": "code",
   "execution_count": 3,
   "metadata": {},
   "outputs": [],
   "source": [
    "import pandas as pd"
   ]
  },
  {
   "cell_type": "code",
   "execution_count": 127,
   "metadata": {},
   "outputs": [
    {
     "name": "stderr",
     "output_type": "stream",
     "text": [
      "c:\\Users\\dawoo\\anaconda3\\Lib\\site-packages\\openpyxl\\styles\\stylesheet.py:226: UserWarning: Workbook contains no default style, apply openpyxl's default\n",
      "  warn(\"Workbook contains no default style, apply openpyxl's default\")\n",
      "c:\\Users\\dawoo\\anaconda3\\Lib\\site-packages\\openpyxl\\styles\\stylesheet.py:226: UserWarning: Workbook contains no default style, apply openpyxl's default\n",
      "  warn(\"Workbook contains no default style, apply openpyxl's default\")\n",
      "c:\\Users\\dawoo\\anaconda3\\Lib\\site-packages\\openpyxl\\styles\\stylesheet.py:226: UserWarning: Workbook contains no default style, apply openpyxl's default\n",
      "  warn(\"Workbook contains no default style, apply openpyxl's default\")\n",
      "c:\\Users\\dawoo\\anaconda3\\Lib\\site-packages\\openpyxl\\styles\\stylesheet.py:226: UserWarning: Workbook contains no default style, apply openpyxl's default\n",
      "  warn(\"Workbook contains no default style, apply openpyxl's default\")\n",
      "c:\\Users\\dawoo\\anaconda3\\Lib\\site-packages\\openpyxl\\styles\\stylesheet.py:226: UserWarning: Workbook contains no default style, apply openpyxl's default\n",
      "  warn(\"Workbook contains no default style, apply openpyxl's default\")\n",
      "c:\\Users\\dawoo\\anaconda3\\Lib\\site-packages\\openpyxl\\styles\\stylesheet.py:226: UserWarning: Workbook contains no default style, apply openpyxl's default\n",
      "  warn(\"Workbook contains no default style, apply openpyxl's default\")\n",
      "c:\\Users\\dawoo\\anaconda3\\Lib\\site-packages\\openpyxl\\styles\\stylesheet.py:226: UserWarning: Workbook contains no default style, apply openpyxl's default\n",
      "  warn(\"Workbook contains no default style, apply openpyxl's default\")\n",
      "c:\\Users\\dawoo\\anaconda3\\Lib\\site-packages\\openpyxl\\styles\\stylesheet.py:226: UserWarning: Workbook contains no default style, apply openpyxl's default\n",
      "  warn(\"Workbook contains no default style, apply openpyxl's default\")\n"
     ]
    }
   ],
   "source": [
    "data2022=pd.read_excel(\"./input/서울/서울특별시･산업별_중분류__퇴사인력__구인_및_채용인력_미충원인력_등__2022.xlsx\")\n",
    "data2021=pd.read_excel(\"./input/서울/서울특별시･산업별_중분류__퇴사인력__구인_및_채용인력_미충원인력_등__2021.xlsx\")\n",
    "data2020=pd.read_excel(\"./input/서울/서울특별시･산업별_중분류__퇴사인력__구인_및_채용인력_미충원인력_등__2020.xlsx\")\n",
    "data2019=pd.read_excel(\"./input/서울/서울특별시･산업별_중분류__퇴사인력__구인_및_채용인력_미충원인력_등__2019.xlsx\")\n",
    "data2018=pd.read_excel(\"./input/서울/서울특별시･산업별_중분류__퇴사인력__구인_및_채용인력_미충원인력_등__2018.xlsx\")\n",
    "data2017=pd.read_excel(\"./input/서울/서울특별시･산업별_중분류__퇴사인력__구인_및_채용인력_미충원인력_등__2017.xlsx\")\n",
    "data2016=pd.read_excel(\"./input/서울/서울특별시･산업별_중분류__퇴사인력__구인_및_채용인력_미충원인력_등__2016.xlsx\")\n",
    "data2015=pd.read_excel(\"./input/서울/서울특별시･산업별_중분류__퇴사인력__구인_및_채용인력_미충원인력_등__2015.xlsx\")\n",
    "data2014=pd.read_excel(\"./input/서울/서울특별시･산업별_중분류__퇴사인력__구인_및_채용인력_미충원인력_등__2014.xlsx\")\n"
   ]
  },
  {
   "cell_type": "code",
   "execution_count": 174,
   "metadata": {},
   "outputs": [
    {
     "data": {
      "text/html": [
       "<div>\n",
       "<style scoped>\n",
       "    .dataframe tbody tr th:only-of-type {\n",
       "        vertical-align: middle;\n",
       "    }\n",
       "\n",
       "    .dataframe tbody tr th {\n",
       "        vertical-align: top;\n",
       "    }\n",
       "\n",
       "    .dataframe thead th {\n",
       "        text-align: right;\n",
       "    }\n",
       "</style>\n",
       "<table border=\"1\" class=\"dataframe\">\n",
       "  <thead>\n",
       "    <tr style=\"text-align: right;\">\n",
       "      <th></th>\n",
       "      <th>경력자</th>\n",
       "      <th>입사 경력자</th>\n",
       "      <th>신입</th>\n",
       "    </tr>\n",
       "    <tr>\n",
       "      <th>2014</th>\n",
       "      <th></th>\n",
       "      <th></th>\n",
       "      <th></th>\n",
       "    </tr>\n",
       "  </thead>\n",
       "  <tbody>\n",
       "    <tr>\n",
       "      <th>20540</th>\n",
       "      <td>15827</td>\n",
       "      <td>571</td>\n",
       "      <td>4714</td>\n",
       "    </tr>\n",
       "  </tbody>\n",
       "</table>\n",
       "</div>"
      ],
      "text/plain": [
       "         경력자 입사 경력자    신입\n",
       "2014                     \n",
       "20540  15827    571  4714"
      ]
     },
     "execution_count": 174,
     "metadata": {},
     "output_type": "execute_result"
    }
   ],
   "source": [
    "# data2014 = data2014.drop(\"산업별(1)\", axis=1)\n",
    "# data2014.iloc[0:1, 0:4]\n",
    "\n",
    "# data2014\n",
    "# data2014.set_index()\n",
    "# data2014 = data2014.set_index(2014)\n",
    "# data2014 = data2014.drop(columns=\"산업별(1)\")\n",
    "\n",
    "data2014 = data2014.rename(\n",
    "    columns={\"Unnamed: 2\": \"경력자\", \"Unnamed: 3\": \"입사 경력자\", \"Unnamed: 4\": \"신입\"})\n",
    "data_2014 = data2014.iloc[2:3, 0:3]\n",
    "data_2014\n",
    "\n",
    "# data2014"
   ]
  },
  {
   "cell_type": "code",
   "execution_count": 172,
   "metadata": {},
   "outputs": [
    {
     "data": {
      "text/html": [
       "<div>\n",
       "<style scoped>\n",
       "    .dataframe tbody tr th:only-of-type {\n",
       "        vertical-align: middle;\n",
       "    }\n",
       "\n",
       "    .dataframe tbody tr th {\n",
       "        vertical-align: top;\n",
       "    }\n",
       "\n",
       "    .dataframe thead th {\n",
       "        text-align: right;\n",
       "    }\n",
       "</style>\n",
       "<table border=\"1\" class=\"dataframe\">\n",
       "  <thead>\n",
       "    <tr style=\"text-align: right;\">\n",
       "      <th></th>\n",
       "      <th>경력자</th>\n",
       "      <th>입사 경력자</th>\n",
       "      <th>신입</th>\n",
       "    </tr>\n",
       "    <tr>\n",
       "      <th>2015</th>\n",
       "      <th></th>\n",
       "      <th></th>\n",
       "      <th></th>\n",
       "    </tr>\n",
       "  </thead>\n",
       "  <tbody>\n",
       "    <tr>\n",
       "      <th>25848</th>\n",
       "      <td>17708</td>\n",
       "      <td>888</td>\n",
       "      <td>8140</td>\n",
       "    </tr>\n",
       "  </tbody>\n",
       "</table>\n",
       "</div>"
      ],
      "text/plain": [
       "         경력자 입사 경력자    신입\n",
       "2015                     \n",
       "25848  17708    888  8140"
      ]
     },
     "execution_count": 172,
     "metadata": {},
     "output_type": "execute_result"
    }
   ],
   "source": [
    "data2015\n",
    "# data2015 = data2015.drop(\"산업별(1)\", axis=1)\n",
    "# data2015=data2015.set_index(\"2015\")\n",
    "data2015 = data2015.rename(\n",
    "    columns={\"2015.1\": \"경력자\", \"2015.2\": \"입사 경력자\", \"2015.3\": \"신입\"})\n",
    "data_2015 = data2015.iloc[2:3, 0:3]\n",
    "data_2015"
   ]
  },
  {
   "cell_type": "code",
   "execution_count": 170,
   "metadata": {},
   "outputs": [
    {
     "data": {
      "text/html": [
       "<div>\n",
       "<style scoped>\n",
       "    .dataframe tbody tr th:only-of-type {\n",
       "        vertical-align: middle;\n",
       "    }\n",
       "\n",
       "    .dataframe tbody tr th {\n",
       "        vertical-align: top;\n",
       "    }\n",
       "\n",
       "    .dataframe thead th {\n",
       "        text-align: right;\n",
       "    }\n",
       "</style>\n",
       "<table border=\"1\" class=\"dataframe\">\n",
       "  <thead>\n",
       "    <tr style=\"text-align: right;\">\n",
       "      <th></th>\n",
       "      <th>경력자</th>\n",
       "      <th>입사 경력자</th>\n",
       "      <th>신입</th>\n",
       "    </tr>\n",
       "    <tr>\n",
       "      <th>2016</th>\n",
       "      <th></th>\n",
       "      <th></th>\n",
       "      <th></th>\n",
       "    </tr>\n",
       "  </thead>\n",
       "  <tbody>\n",
       "    <tr>\n",
       "      <th>25603</th>\n",
       "      <td>19114</td>\n",
       "      <td>1642</td>\n",
       "      <td>6489</td>\n",
       "    </tr>\n",
       "  </tbody>\n",
       "</table>\n",
       "</div>"
      ],
      "text/plain": [
       "         경력자 입사 경력자    신입\n",
       "2016                     \n",
       "25603  19114   1642  6489"
      ]
     },
     "execution_count": 170,
     "metadata": {},
     "output_type": "execute_result"
    }
   ],
   "source": [
    "# data2016\n",
    "# data2016 = data2016.drop(\"산업별(1)\", axis=1)\n",
    "# data2016 = data2016.set_index(\"2016\")\n",
    "data2016 = data2016.rename(\n",
    "    columns={\"2016.1\": \"경력자\", \"2016.2\": \"입사 경력자\", \"2016.3\": \"신입\"})\n",
    "data_2016 = data2016.iloc[2:3, 0:3]\n",
    "data_2016"
   ]
  },
  {
   "cell_type": "code",
   "execution_count": 148,
   "metadata": {},
   "outputs": [
    {
     "data": {
      "text/html": [
       "<div>\n",
       "<style scoped>\n",
       "    .dataframe tbody tr th:only-of-type {\n",
       "        vertical-align: middle;\n",
       "    }\n",
       "\n",
       "    .dataframe tbody tr th {\n",
       "        vertical-align: top;\n",
       "    }\n",
       "\n",
       "    .dataframe thead th {\n",
       "        text-align: right;\n",
       "    }\n",
       "</style>\n",
       "<table border=\"1\" class=\"dataframe\">\n",
       "  <thead>\n",
       "    <tr style=\"text-align: right;\">\n",
       "      <th></th>\n",
       "      <th>경력자</th>\n",
       "      <th>입사 경력자</th>\n",
       "      <th>신입</th>\n",
       "    </tr>\n",
       "    <tr>\n",
       "      <th>2017</th>\n",
       "      <th></th>\n",
       "      <th></th>\n",
       "      <th></th>\n",
       "    </tr>\n",
       "  </thead>\n",
       "  <tbody>\n",
       "    <tr>\n",
       "      <th>26401</th>\n",
       "      <td>19672</td>\n",
       "      <td>1764</td>\n",
       "      <td>6730</td>\n",
       "    </tr>\n",
       "  </tbody>\n",
       "</table>\n",
       "</div>"
      ],
      "text/plain": [
       "         경력자 입사 경력자    신입\n",
       "2017                     \n",
       "26401  19672   1764  6730"
      ]
     },
     "execution_count": 148,
     "metadata": {},
     "output_type": "execute_result"
    }
   ],
   "source": [
    "# data2017=data2017.set_index(\"2017\")\n",
    "# data2017 = data2017.drop(\"산업별(1)\", axis=1)\n",
    "data2017 = data2017.rename(\n",
    "    columns={\"2017.1\": \"경력자\", \"2017.2\": \"입사 경력자\", \"2017.3\": \"신입\"})\n",
    "data_2017 = data2017.iloc[2:3, 0:3]\n",
    "data_2017"
   ]
  },
  {
   "cell_type": "code",
   "execution_count": 151,
   "metadata": {},
   "outputs": [
    {
     "data": {
      "text/html": [
       "<div>\n",
       "<style scoped>\n",
       "    .dataframe tbody tr th:only-of-type {\n",
       "        vertical-align: middle;\n",
       "    }\n",
       "\n",
       "    .dataframe tbody tr th {\n",
       "        vertical-align: top;\n",
       "    }\n",
       "\n",
       "    .dataframe thead th {\n",
       "        text-align: right;\n",
       "    }\n",
       "</style>\n",
       "<table border=\"1\" class=\"dataframe\">\n",
       "  <thead>\n",
       "    <tr style=\"text-align: right;\">\n",
       "      <th></th>\n",
       "      <th>경력자</th>\n",
       "      <th>입사 경력자</th>\n",
       "      <th>신입</th>\n",
       "    </tr>\n",
       "    <tr>\n",
       "      <th>2018</th>\n",
       "      <th></th>\n",
       "      <th></th>\n",
       "      <th></th>\n",
       "    </tr>\n",
       "  </thead>\n",
       "  <tbody>\n",
       "    <tr>\n",
       "      <th>27546</th>\n",
       "      <td>21811</td>\n",
       "      <td>1756</td>\n",
       "      <td>5735</td>\n",
       "    </tr>\n",
       "  </tbody>\n",
       "</table>\n",
       "</div>"
      ],
      "text/plain": [
       "         경력자 입사 경력자    신입\n",
       "2018                     \n",
       "27546  21811   1756  5735"
      ]
     },
     "execution_count": 151,
     "metadata": {},
     "output_type": "execute_result"
    }
   ],
   "source": [
    "# data2018=data2018.set_index(\"2018\")\n",
    "# data2018 = data2018.drop(\"산업별(1)\", axis=1)\n",
    "data2018 = data2018.rename(\n",
    "    columns={\"2018.1\": \"경력자\", \"2018.2\": \"입사 경력자\", \"2018.3\": \"신입\"})\n",
    "data_2018 = data2018.iloc[2:3, 0:3]\n",
    "data_2018"
   ]
  },
  {
   "cell_type": "code",
   "execution_count": 153,
   "metadata": {},
   "outputs": [
    {
     "data": {
      "text/html": [
       "<div>\n",
       "<style scoped>\n",
       "    .dataframe tbody tr th:only-of-type {\n",
       "        vertical-align: middle;\n",
       "    }\n",
       "\n",
       "    .dataframe tbody tr th {\n",
       "        vertical-align: top;\n",
       "    }\n",
       "\n",
       "    .dataframe thead th {\n",
       "        text-align: right;\n",
       "    }\n",
       "</style>\n",
       "<table border=\"1\" class=\"dataframe\">\n",
       "  <thead>\n",
       "    <tr style=\"text-align: right;\">\n",
       "      <th></th>\n",
       "      <th>경력자</th>\n",
       "      <th>입사 경력자</th>\n",
       "      <th>신입</th>\n",
       "    </tr>\n",
       "    <tr>\n",
       "      <th>2019</th>\n",
       "      <th></th>\n",
       "      <th></th>\n",
       "      <th></th>\n",
       "    </tr>\n",
       "  </thead>\n",
       "  <tbody>\n",
       "    <tr>\n",
       "      <th>29586</th>\n",
       "      <td>21328</td>\n",
       "      <td>2229</td>\n",
       "      <td>8258</td>\n",
       "    </tr>\n",
       "  </tbody>\n",
       "</table>\n",
       "</div>"
      ],
      "text/plain": [
       "         경력자 입사 경력자    신입\n",
       "2019                     \n",
       "29586  21328   2229  8258"
      ]
     },
     "execution_count": 153,
     "metadata": {},
     "output_type": "execute_result"
    }
   ],
   "source": [
    "# data2019=data2019.set_index(\"2019\")\n",
    "# data2019 = data2019.drop(\"산업별(1)\", axis=1)\n",
    "data2019 = data2019.rename(\n",
    "    columns={\"2019.1\": \"경력자\", \"2019.2\": \"입사 경력자\", \"2019.3\": \"신입\"})\n",
    "data_2019 = data2019.iloc[2:3, 0:3]\n",
    "data_2019"
   ]
  },
  {
   "cell_type": "code",
   "execution_count": 155,
   "metadata": {},
   "outputs": [
    {
     "data": {
      "text/html": [
       "<div>\n",
       "<style scoped>\n",
       "    .dataframe tbody tr th:only-of-type {\n",
       "        vertical-align: middle;\n",
       "    }\n",
       "\n",
       "    .dataframe tbody tr th {\n",
       "        vertical-align: top;\n",
       "    }\n",
       "\n",
       "    .dataframe thead th {\n",
       "        text-align: right;\n",
       "    }\n",
       "</style>\n",
       "<table border=\"1\" class=\"dataframe\">\n",
       "  <thead>\n",
       "    <tr style=\"text-align: right;\">\n",
       "      <th></th>\n",
       "      <th>경력자</th>\n",
       "      <th>입사 경력자</th>\n",
       "      <th>신입</th>\n",
       "    </tr>\n",
       "    <tr>\n",
       "      <th>2020</th>\n",
       "      <th></th>\n",
       "      <th></th>\n",
       "      <th></th>\n",
       "    </tr>\n",
       "  </thead>\n",
       "  <tbody>\n",
       "    <tr>\n",
       "      <th>26164</th>\n",
       "      <td>18665</td>\n",
       "      <td>1871</td>\n",
       "      <td>7500</td>\n",
       "    </tr>\n",
       "  </tbody>\n",
       "</table>\n",
       "</div>"
      ],
      "text/plain": [
       "         경력자 입사 경력자    신입\n",
       "2020                     \n",
       "26164  18665   1871  7500"
      ]
     },
     "execution_count": 155,
     "metadata": {},
     "output_type": "execute_result"
    }
   ],
   "source": [
    "# data2020=data2020.set_index(\"2020\")\n",
    "# data2020 = data2020.drop(\"산업별(1)\", axis=1)\n",
    "data2020 = data2020.rename(\n",
    "    columns={\"2020.1\": \"경력자\", \"2020.2\": \"입사 경력자\", \"2020.3\": \"신입\"})\n",
    "data_2020 = data2020.iloc[2:3, 0:3]\n",
    "data_2020"
   ]
  },
  {
   "cell_type": "code",
   "execution_count": 157,
   "metadata": {},
   "outputs": [
    {
     "data": {
      "text/html": [
       "<div>\n",
       "<style scoped>\n",
       "    .dataframe tbody tr th:only-of-type {\n",
       "        vertical-align: middle;\n",
       "    }\n",
       "\n",
       "    .dataframe tbody tr th {\n",
       "        vertical-align: top;\n",
       "    }\n",
       "\n",
       "    .dataframe thead th {\n",
       "        text-align: right;\n",
       "    }\n",
       "</style>\n",
       "<table border=\"1\" class=\"dataframe\">\n",
       "  <thead>\n",
       "    <tr style=\"text-align: right;\">\n",
       "      <th></th>\n",
       "      <th>경력자</th>\n",
       "      <th>입사 경력자</th>\n",
       "      <th>신입</th>\n",
       "    </tr>\n",
       "    <tr>\n",
       "      <th>2021</th>\n",
       "      <th></th>\n",
       "      <th></th>\n",
       "      <th></th>\n",
       "    </tr>\n",
       "  </thead>\n",
       "  <tbody>\n",
       "    <tr>\n",
       "      <th>26422</th>\n",
       "      <td>18394</td>\n",
       "      <td>2151</td>\n",
       "      <td>8028</td>\n",
       "    </tr>\n",
       "  </tbody>\n",
       "</table>\n",
       "</div>"
      ],
      "text/plain": [
       "         경력자 입사 경력자    신입\n",
       "2021                     \n",
       "26422  18394   2151  8028"
      ]
     },
     "execution_count": 157,
     "metadata": {},
     "output_type": "execute_result"
    }
   ],
   "source": [
    "# data2021=data2.set_index(\"2021\")\n",
    "# data2021 = data2021.drop(\"산업021별(1)\", axis=1)\n",
    "data2021 = data2021.rename(\n",
    "\n",
    "    columns={\"2021.1\": \"경력자\", \"2021.2\": \"입사 경력자\", \"2021.3\": \"신입\"})\n",
    "\n",
    "data_2021 = data2021.iloc[2:3, 0:3]\n",
    "data_2021"
   ]
  },
  {
   "cell_type": "code",
   "execution_count": 159,
   "metadata": {},
   "outputs": [
    {
     "data": {
      "text/html": [
       "<div>\n",
       "<style scoped>\n",
       "    .dataframe tbody tr th:only-of-type {\n",
       "        vertical-align: middle;\n",
       "    }\n",
       "\n",
       "    .dataframe tbody tr th {\n",
       "        vertical-align: top;\n",
       "    }\n",
       "\n",
       "    .dataframe thead th {\n",
       "        text-align: right;\n",
       "    }\n",
       "</style>\n",
       "<table border=\"1\" class=\"dataframe\">\n",
       "  <thead>\n",
       "    <tr style=\"text-align: right;\">\n",
       "      <th></th>\n",
       "      <th>경력자</th>\n",
       "      <th>입사 경력자</th>\n",
       "      <th>신입</th>\n",
       "    </tr>\n",
       "    <tr>\n",
       "      <th>2022</th>\n",
       "      <th></th>\n",
       "      <th></th>\n",
       "      <th></th>\n",
       "    </tr>\n",
       "  </thead>\n",
       "  <tbody>\n",
       "    <tr>\n",
       "      <th>31955</th>\n",
       "      <td>24727</td>\n",
       "      <td>2747</td>\n",
       "      <td>7229</td>\n",
       "    </tr>\n",
       "  </tbody>\n",
       "</table>\n",
       "</div>"
      ],
      "text/plain": [
       "         경력자 입사 경력자    신입\n",
       "2022                     \n",
       "31955  24727   2747  7229"
      ]
     },
     "execution_count": 159,
     "metadata": {},
     "output_type": "execute_result"
    }
   ],
   "source": [
    "# data2022=data2022.set_index(\"2022\")\n",
    "# data2022 = data2022.drop(\"산업별(1)\", axis=1)\n",
    "data2022 = data2022.rename(\n",
    "    columns={\"2022.1\": \"경력자\", \"2022.2\": \"입사 경력자\", \"2022.3\": \"신입\"})\n",
    "data_2022 = data2022.iloc[2:3, 0:3]\n",
    "data_2022"
   ]
  }
 ],
 "metadata": {
  "kernelspec": {
   "display_name": "base",
   "language": "python",
   "name": "python3"
  },
  "language_info": {
   "codemirror_mode": {
    "name": "ipython",
    "version": 3
   },
   "file_extension": ".py",
   "mimetype": "text/x-python",
   "name": "python",
   "nbconvert_exporter": "python",
   "pygments_lexer": "ipython3",
   "version": "3.12.4"
  }
 },
 "nbformat": 4,
 "nbformat_minor": 2
}
