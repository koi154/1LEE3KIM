{
 "cells": [
  {
   "cell_type": "code",
   "execution_count": 1,
   "metadata": {},
   "outputs": [],
   "source": [
    "import pandas as pd\n",
    "import matplotlib.pyplot as plt\n",
    "import seaborn as sns"
   ]
  },
  {
   "cell_type": "code",
   "execution_count": 2,
   "metadata": {},
   "outputs": [
    {
     "name": "stderr",
     "output_type": "stream",
     "text": [
      "c:\\Users\\dawoo\\anaconda3\\Lib\\site-packages\\openpyxl\\styles\\stylesheet.py:226: UserWarning: Workbook contains no default style, apply openpyxl's default\n",
      "  warn(\"Workbook contains no default style, apply openpyxl's default\")\n"
     ]
    },
    {
     "data": {
      "text/plain": [
       "[7231209,\n",
       " 2461682,\n",
       " 1751119,\n",
       " 2171715,\n",
       " 1033715,\n",
       " 1307986,\n",
       " 838950,\n",
       " 9782084,\n",
       " 1080135,\n",
       " 1132221,\n",
       " 1459144,\n",
       " 1224104,\n",
       " 1232578,\n",
       " 1827700,\n",
       " 2359396,\n",
       " 469839]"
      ]
     },
     "execution_count": 2,
     "metadata": {},
     "output_type": "execute_result"
    }
   ],
   "source": [
    "p = pd.read_excel(\"./input/연령별인구현황_2020.xlsx\", skiprows=4)\n",
    "list = p.iloc[:, 3]\n",
    "data = []\n",
    "for i in range(len(p)):\n",
    "    num = list.iloc[i].replace(\",\", \"\")\n",
    "    data.append(int(num))\n",
    "data[5]+=data[7]\n",
    "del data[7]\n",
    "data"
   ]
  },
  {
   "cell_type": "code",
   "execution_count": 12,
   "metadata": {},
   "outputs": [
    {
     "data": {
      "text/plain": [
       "[0.10371709626979389,\n",
       " 0.07519249033790718,\n",
       " 0.09513916529944567,\n",
       " 0.1623141158024879,\n",
       " 0.0198313848594632,\n",
       " 0.15000160552177164,\n",
       " 0.22575838846176768,\n",
       " 0.12241767705122956,\n",
       " 0.046383091002513574,\n",
       " 0.2807755729667618,\n",
       " 0.23534346164600617,\n",
       " 0.08299948370399901,\n",
       " 0.05273499932661463,\n",
       " 0.03912020572303988,\n",
       " 0.35966832189255216,\n",
       " 0.015750076089894625]"
      ]
     },
     "execution_count": 12,
     "metadata": {},
     "output_type": "execute_result"
    }
   ],
   "source": [
    "local_people = pd.read_excel(\"./output/지역별_퇴사자3.xlsx\")\n",
    "local_people = local_people.iloc[:, [0, -9, -8, -7]]\n",
    "local_people = local_people.rename(\n",
    "    columns={\"2020.1\": \"경력\", \"2020.2\": \"입사경험\", \"2020.3\": \"신입\"})\n",
    "local_people = local_people.drop(index=0)\n",
    "list = local_people.iloc[1:, 3]\n",
    "new_2020 = []\n",
    "for i in range(len(list)):\n",
    "    num_str = list.iloc[i].replace(\",\", \"\")\n",
    "    # print(num_str)\n",
    "    new_2020.append(int(num_str)/data[i]*100)\n",
    "new_2020"
   ]
  },
  {
   "cell_type": "code",
   "execution_count": 9,
   "metadata": {},
   "outputs": [
    {
     "data": {
      "text/plain": [
       "[0.38770833480265887,\n",
       " 0.19896964758242536,\n",
       " 0.3396114141871569,\n",
       " 0.5390670506949578,\n",
       " 0.1680347097604272,\n",
       " 0.33830637330980606,\n",
       " 0.967518922462602,\n",
       " 0.4382195041465602,\n",
       " 0.18506945891022883,\n",
       " 0.8804818140628022,\n",
       " 0.6909530519263349,\n",
       " 0.2530830713730206,\n",
       " 0.21256261267035434,\n",
       " 0.19313891776549763,\n",
       " 1.35259193454596,\n",
       " 0.04576035620712627]"
      ]
     },
     "execution_count": 9,
     "metadata": {},
     "output_type": "execute_result"
    }
   ],
   "source": [
    "# local_people_2020 = pd.read_excel(\"./output/지역별_퇴사자3.xlsx\")\n",
    "# local_people_2020 = local_people_2020.iloc[:, [0, -9, -8, -7]]\n",
    "# local_people_2020 = local_people_2020.rename(\n",
    "#     columns={\"2020.1\": \"경력\", \"2020.2\": \"입사경험\", \"2020.3\": \"신입\"})\n",
    "# local_people_2020 = local_people_2020.drop(index=0)\n",
    "# list_1 = local_people_2020.iloc[1:, 1]\n",
    "# list_2 = local_people_2020.iloc[1:, 2]\n",
    "# list_3 = local_people_2020.iloc[1:, 3]\n",
    "# new_2020 = []\n",
    "# for i in range(len(list_1)):\n",
    "#     num_str_1 = list_1.iloc[i].replace(\",\", \"\")\n",
    "#     num_str_2 = list_2.iloc[i].replace(\",\", \"\")\n",
    "#     num_str_3 = list_3.iloc[i].replace(\",\", \"\")\n",
    "#     # print(num_str)\n",
    "#     new_2020.append((int(num_str_1)+int(num_str_2)+int(num_str_3))/data[i]*100)\n",
    "# # new_2020\n",
    "# # local_people_2020\n",
    "\n",
    "# new_2020"
   ]
  },
  {
   "cell_type": "code",
   "execution_count": 10,
   "metadata": {},
   "outputs": [
    {
     "data": {
      "text/plain": [
       "[10.1,\n",
       " 14.3,\n",
       " 13.299999999999999,\n",
       " 11.6,\n",
       " 19.0,\n",
       " 23.5,\n",
       " 15.8,\n",
       " 13.0,\n",
       " 19.799999999999997,\n",
       " 18.4,\n",
       " 17.7,\n",
       " 11.2,\n",
       " 20.2,\n",
       " 16.4,\n",
       " 16.099999999999998,\n",
       " 18.8]"
      ]
     },
     "execution_count": 10,
     "metadata": {},
     "output_type": "execute_result"
    }
   ],
   "source": [
    "prospect = pd.read_excel(\"./input/2020/업무_관련_동의_정도_2020.xlsx\")\n",
    "concede_sum = prospect.iloc[11:28, 24:26].sum(axis=1)\n",
    "\n",
    "clist1 = []\n",
    "for i in range(len(concede_sum)):\n",
    "    result = concede_sum.iloc[i]\n",
    "    # print(result)\n",
    "    clist1.append(result)\n",
    "# nrl1\n",
    "clist1[5] += clist1[7]\n",
    "del clist1[7]\n",
    "\n",
    "clist1"
   ]
  },
  {
   "cell_type": "code",
   "execution_count": 5,
   "metadata": {},
   "outputs": [
    {
     "data": {
      "text/plain": [
       "[4835,\n",
       " 1460,\n",
       " 977,\n",
       " 1479,\n",
       " 686,\n",
       " 885,\n",
       " 534,\n",
       " 6021,\n",
       " 539,\n",
       " 566,\n",
       " 738,\n",
       " 872,\n",
       " 612,\n",
       " 865,\n",
       " 1367,\n",
       " 252]"
      ]
     },
     "execution_count": 5,
     "metadata": {},
     "output_type": "execute_result"
    }
   ],
   "source": [
    "# prospect = pd.read_excel(\"./input/2020/업무_관련_동의_정도_2020.xlsx\")\n",
    "# total_concede = prospect.iloc[11:28, 20]\n",
    "# concede_sum = prospect.iloc[11:28, 21:23].sum(axis=1)\n",
    "\n",
    "\n",
    "# clist2 = []\n",
    "# for i in range(len(total_concede)):\n",
    "#     result=int((total_concede.iloc[i]*concede_sum.iloc[i])/100+0.5)\n",
    "#     # print(result)\n",
    "#     clist2.append(result)\n",
    "# # nrl1\n",
    "# clist2[5]+=clist2[7]\n",
    "# del clist2[7]\n",
    "\n",
    "# clist2\n",
    "# # sample\n",
    "\n"
   ]
  },
  {
   "cell_type": "code",
   "execution_count": 13,
   "metadata": {},
   "outputs": [
    {
     "name": "stdout",
     "output_type": "stream",
     "text": [
      "인정_없는 것과 신입 퇴사자의 상관관계 : -0.032564238132386555\n"
     ]
    },
    {
     "data": {
      "text/html": [
       "<div>\n",
       "<style scoped>\n",
       "    .dataframe tbody tr th:only-of-type {\n",
       "        vertical-align: middle;\n",
       "    }\n",
       "\n",
       "    .dataframe tbody tr th {\n",
       "        vertical-align: top;\n",
       "    }\n",
       "\n",
       "    .dataframe thead th {\n",
       "        text-align: right;\n",
       "    }\n",
       "</style>\n",
       "<table border=\"1\" class=\"dataframe\">\n",
       "  <thead>\n",
       "    <tr style=\"text-align: right;\">\n",
       "      <th></th>\n",
       "      <th>인정_없음</th>\n",
       "      <th>신입_퇴사자</th>\n",
       "    </tr>\n",
       "  </thead>\n",
       "  <tbody>\n",
       "    <tr>\n",
       "      <th>0</th>\n",
       "      <td>10.1</td>\n",
       "      <td>0.103717</td>\n",
       "    </tr>\n",
       "    <tr>\n",
       "      <th>1</th>\n",
       "      <td>14.3</td>\n",
       "      <td>0.075192</td>\n",
       "    </tr>\n",
       "    <tr>\n",
       "      <th>2</th>\n",
       "      <td>13.3</td>\n",
       "      <td>0.095139</td>\n",
       "    </tr>\n",
       "    <tr>\n",
       "      <th>3</th>\n",
       "      <td>11.6</td>\n",
       "      <td>0.162314</td>\n",
       "    </tr>\n",
       "    <tr>\n",
       "      <th>4</th>\n",
       "      <td>19.0</td>\n",
       "      <td>0.019831</td>\n",
       "    </tr>\n",
       "    <tr>\n",
       "      <th>5</th>\n",
       "      <td>23.5</td>\n",
       "      <td>0.150002</td>\n",
       "    </tr>\n",
       "    <tr>\n",
       "      <th>6</th>\n",
       "      <td>15.8</td>\n",
       "      <td>0.225758</td>\n",
       "    </tr>\n",
       "    <tr>\n",
       "      <th>7</th>\n",
       "      <td>13.0</td>\n",
       "      <td>0.122418</td>\n",
       "    </tr>\n",
       "    <tr>\n",
       "      <th>8</th>\n",
       "      <td>19.8</td>\n",
       "      <td>0.046383</td>\n",
       "    </tr>\n",
       "    <tr>\n",
       "      <th>9</th>\n",
       "      <td>18.4</td>\n",
       "      <td>0.280776</td>\n",
       "    </tr>\n",
       "    <tr>\n",
       "      <th>10</th>\n",
       "      <td>17.7</td>\n",
       "      <td>0.235343</td>\n",
       "    </tr>\n",
       "    <tr>\n",
       "      <th>11</th>\n",
       "      <td>11.2</td>\n",
       "      <td>0.082999</td>\n",
       "    </tr>\n",
       "    <tr>\n",
       "      <th>12</th>\n",
       "      <td>20.2</td>\n",
       "      <td>0.052735</td>\n",
       "    </tr>\n",
       "    <tr>\n",
       "      <th>13</th>\n",
       "      <td>16.4</td>\n",
       "      <td>0.039120</td>\n",
       "    </tr>\n",
       "    <tr>\n",
       "      <th>14</th>\n",
       "      <td>16.1</td>\n",
       "      <td>0.359668</td>\n",
       "    </tr>\n",
       "    <tr>\n",
       "      <th>15</th>\n",
       "      <td>18.8</td>\n",
       "      <td>0.015750</td>\n",
       "    </tr>\n",
       "  </tbody>\n",
       "</table>\n",
       "</div>"
      ],
      "text/plain": [
       "    인정_없음    신입_퇴사자\n",
       "0    10.1  0.103717\n",
       "1    14.3  0.075192\n",
       "2    13.3  0.095139\n",
       "3    11.6  0.162314\n",
       "4    19.0  0.019831\n",
       "5    23.5  0.150002\n",
       "6    15.8  0.225758\n",
       "7    13.0  0.122418\n",
       "8    19.8  0.046383\n",
       "9    18.4  0.280776\n",
       "10   17.7  0.235343\n",
       "11   11.2  0.082999\n",
       "12   20.2  0.052735\n",
       "13   16.4  0.039120\n",
       "14   16.1  0.359668\n",
       "15   18.8  0.015750"
      ]
     },
     "execution_count": 13,
     "metadata": {},
     "output_type": "execute_result"
    }
   ],
   "source": [
    "df_high = pd.DataFrame({\"인정_없음\": clist1, \"신입_퇴사자\": new_2020})\n",
    "\n",
    "X = df_high[\"인정_없음\"]\n",
    "y = df_high[\"신입_퇴사자\"]\n",
    "\n",
    "correlation_not_reasonable_concede=X.corr(y)\n",
    "\n",
    "# print(mean)\n",
    "# print(df)\n",
    "print(f\"인정_없는 것과 신입 퇴사자의 상관관계 : {correlation_not_reasonable_concede}\")\n",
    "df_high"
   ]
  },
  {
   "cell_type": "code",
   "execution_count": 7,
   "metadata": {},
   "outputs": [
    {
     "data": {
      "text/plain": [
       "<Axes: xlabel='인정_없음', ylabel='퇴사율'>"
      ]
     },
     "execution_count": 7,
     "metadata": {},
     "output_type": "execute_result"
    },
    {
     "data": {
      "image/png": "[encoded data removed]",
      "text/plain": [
       "<Figure size 640x480 with 1 Axes>"
      ]
     },
     "metadata": {},
     "output_type": "display_data"
    }
   ],
   "source": [
    "import seaborn as sns\n",
    "import matplotlib.pyplot as plt\n",
    "import matplotlib.font_manager as fm\n",
    "font_path = \"C:/Windows/Fonts/malgun.ttf\"\n",
    "font_name = fm.FontProperties(fname=font_path).get_name()\n",
    "plt.rc(\"font\", family=font_name)\n",
    "sns.regplot(x=df_high[\"인정_없음\"], y=df_high['퇴사율'])"
   ]
  },
  {
   "cell_type": "code",
   "execution_count": 8,
   "metadata": {},
   "outputs": [
    {
     "name": "stdout",
     "output_type": "stream",
     "text": [
      "인정 있는 것과 신입 퇴사자의 상관관계 : -0.5356625634766858\n"
     ]
    }
   ],
   "source": [
    "mean = int(pd.Series(new_2020).mean()+0.5)\n",
    "\n",
    "df_low = pd.DataFrame({\"인정_있음\": clist2, \"신입_퇴사자\": new_2020})\n",
    "df_low[\"퇴사율\"] = (df_low[\"신입_퇴사자\"] < mean).astype(int)\n",
    "\n",
    "X = df_low[\"인정_있음\"]\n",
    "y = df_low[\"퇴사율\"]\n",
    "\n",
    "correlation_not_reasonable_concede = X.corr(y)\n",
    "\n",
    "\n",
    "print(f\"인정 있는 것과 신입 퇴사자의 상관관계 : {correlation_not_reasonable_concede}\")\n"
   ]
  },
  {
   "cell_type": "code",
   "execution_count": 9,
   "metadata": {},
   "outputs": [
    {
     "data": {
      "text/plain": [
       "<Axes: xlabel='인정_있음', ylabel='퇴사율'>"
      ]
     },
     "execution_count": 9,
     "metadata": {},
     "output_type": "execute_result"
    },
    {
     "name": "stderr",
     "output_type": "stream",
     "text": [
      "c:\\Users\\dawoo\\anaconda3\\Lib\\site-packages\\IPython\\core\\events.py:82: UserWarning: Glyph 8722 (\\N{MINUS SIGN}) missing from current font.\n",
      "  func(*args, **kwargs)\n",
      "c:\\Users\\dawoo\\anaconda3\\Lib\\site-packages\\IPython\\core\\pylabtools.py:170: UserWarning: Glyph 8722 (\\N{MINUS SIGN}) missing from current font.\n",
      "  fig.canvas.print_figure(bytes_io, **kw)\n"
     ]
    },
    {
     "data": {
      "image/png": "[encoded data removed]",
      "text/plain": [
       "<Figure size 640x480 with 1 Axes>"
      ]
     },
     "metadata": {},
     "output_type": "display_data"
    }
   ],
   "source": [
    "import seaborn as sns\n",
    "import matplotlib.pyplot as plt\n",
    "import matplotlib.font_manager as fm\n",
    "font_path = \"C:/Windows/Fonts/malgun.ttf\"\n",
    "font_name = fm.FontProperties(fname=font_path).get_name()\n",
    "plt.rc(\"font\", family=font_name)\n",
    "sns.regplot(x=df_low['인정_있음'], y=df_low['퇴사율'])"
   ]
  }
 ],
 "metadata": {
  "kernelspec": {
   "display_name": "base",
   "language": "python",
   "name": "python3"
  },
  "language_info": {
   "codemirror_mode": {
    "name": "ipython",
    "version": 3
   },
   "file_extension": ".py",
   "mimetype": "text/x-python",
   "name": "python",
   "nbconvert_exporter": "python",
   "pygments_lexer": "ipython3",
   "version": "3.12.4"
  }
 },
 "nbformat": 4,
 "nbformat_minor": 2
}
