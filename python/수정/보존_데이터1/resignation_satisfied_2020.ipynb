{
 "cells": [
  {
   "cell_type": "code",
   "execution_count": 2,
   "metadata": {},
   "outputs": [],
   "source": [
    "import pandas as pd\n",
    "import matplotlib.pyplot as plt\n",
    "import seaborn as sns"
   ]
  },
  {
   "cell_type": "code",
   "execution_count": 3,
   "metadata": {},
   "outputs": [
    {
     "name": "stderr",
     "output_type": "stream",
     "text": [
      "c:\\Users\\dawoo\\anaconda3\\Lib\\site-packages\\openpyxl\\styles\\stylesheet.py:226: UserWarning: Workbook contains no default style, apply openpyxl's default\n",
      "  warn(\"Workbook contains no default style, apply openpyxl's default\")\n"
     ]
    },
    {
     "data": {
      "text/plain": [
       "[14604111475106,\n",
       " 430987419014,\n",
       " 321534294310,\n",
       " 401546406146,\n",
       " 209375185867,\n",
       " 216233555580,\n",
       " 144569151705,\n",
       " 18078481907459,\n",
       " 180015166349,\n",
       " 199209194677,\n",
       " 243200268598,\n",
       " 211464189012,\n",
       " 200709186064,\n",
       " 284163291117,\n",
       " 378436399558,\n",
       " 8274682555]"
      ]
     },
     "execution_count": 3,
     "metadata": {},
     "output_type": "execute_result"
    }
   ],
   "source": [
    "p = pd.read_excel(\"./input/연령별인구현황_2020.xlsx\", skiprows=4)\n",
    "list = p.iloc[:, 4:6].sum(axis=1)\n",
    "data = []\n",
    "for i in range(len(p)):\n",
    "    num = list.iloc[i].replace(\",\", \"\")\n",
    "    data.append(int(num))\n",
    "data[5] += data[7]\n",
    "del data[7]\n",
    "data"
   ]
  },
  {
   "cell_type": "code",
   "execution_count": 4,
   "metadata": {},
   "outputs": [
    {
     "name": "stdout",
     "output_type": "stream",
     "text": [
      "[14.9, 15.4, 19.3, 18.4, 17.1, 36.2, 16.8, 17.1, 17.6, 19.7, 16.8, 18.200000000000003, 16.599999999999998, 19.8, 17.8, 21.599999999999998]\n"
     ]
    }
   ],
   "source": [
    "satisfied = pd.read_excel(\"./input/2020/근로_환경_만족도_2020.xlsx\")\n",
    "satisfied = satisfied.drop(columns=\"특성별(1)\", axis=1)\n",
    "satisfied = satisfied.set_index(\"특성별(2)\")\n",
    "\n",
    "satisfied_1 = satisfied.iloc[10:27, -4]\n",
    "satisfied_2 = satisfied.iloc[10:27, -3]\n",
    "\n",
    "total_list = []\n",
    "for i in range(len(satisfied_1)):\n",
    "    total = satisfied_1.iloc[i]+satisfied_2.iloc[i]\n",
    "    total_list.append(total)\n",
    "# 311 49\n",
    "total_list[5]+=total_list[7]\n",
    "del total_list[7]\n",
    "\n",
    "# satisfied_1\n",
    "# satisfied_2\n",
    "\n",
    "print(total_list)"
   ]
  },
  {
   "cell_type": "code",
   "execution_count": 5,
   "metadata": {},
   "outputs": [
    {
     "data": {
      "text/plain": [
       "[7500,\n",
       " 1851,\n",
       " 1666,\n",
       " 3525,\n",
       " 205,\n",
       " 1962,\n",
       " 1894,\n",
       " 11975,\n",
       " 501,\n",
       " 3179,\n",
       " 3434,\n",
       " 1016,\n",
       " 650,\n",
       " 715,\n",
       " 8486,\n",
       " 74]"
      ]
     },
     "execution_count": 5,
     "metadata": {},
     "output_type": "execute_result"
    }
   ],
   "source": [
    "local_people = pd.read_excel(\"./output/지역별_퇴사자3.xlsx\")\n",
    "local_people = local_people.iloc[:, [0, -9, -8, -7]]\n",
    "local_people = local_people.rename(\n",
    "    columns={\"2020.1\": \"경력\", \"2020.2\": \"입사경험\", \"2020.3\": \"신입\"})\n",
    "local_people = local_people.drop(index=0)\n",
    "list = local_people.iloc[1:, 3]\n",
    "new_2020 = []\n",
    "for i in range(len(list)):\n",
    "    num_str = list.iloc[i].replace(\",\", \"\")\n",
    "    # print(num_str)\n",
    "    new_2020.append(int(num_str))\n",
    "new_2020"
   ]
  },
  {
   "cell_type": "code",
   "execution_count": 6,
   "metadata": {},
   "outputs": [],
   "source": [
    "# local_people_2020 = pd.read_excel(\"./output/지역별_퇴사자3.xlsx\")\n",
    "# local_people_2020 = local_people_2020.iloc[:, [0, -9, -8, -7]]\n",
    "# local_people_2020 = local_people_2020.rename(\n",
    "#     columns={\"2020.1\": \"경력\", \"2020.2\": \"입사경험\", \"2020.3\": \"신입\"})\n",
    "# local_people_2020 = local_people_2020.drop(index=0)\n",
    "# list_1 = local_people_2020.iloc[1:, 1]\n",
    "# list_2 = local_people_2020.iloc[1:, 2]\n",
    "# list_3 = local_people_2020.iloc[1:, 3]\n",
    "# new_2020 = []\n",
    "# for i in range(len(list_1)):\n",
    "#     num_str_1 = list_1.iloc[i].replace(\",\", \"\")\n",
    "#     num_str_2 = list_2.iloc[i].replace(\",\", \"\")\n",
    "#     num_str_3 = list_3.iloc[i].replace(\",\", \"\")\n",
    "#     # print(num_str)\n",
    "#     new_2020.append((int(num_str_1)+int(num_str_2)+int(num_str_3))/data[i]*100)\n",
    "# # new_2020\n",
    "# # local_people_2020\n",
    "\n",
    "# new_2020"
   ]
  },
  {
   "cell_type": "code",
   "execution_count": 7,
   "metadata": {},
   "outputs": [
    {
     "name": "stdout",
     "output_type": "stream",
     "text": [
      "-0.4626870142333409\n"
     ]
    },
    {
     "data": {
      "text/html": [
       "<div>\n",
       "<style scoped>\n",
       "    .dataframe tbody tr th:only-of-type {\n",
       "        vertical-align: middle;\n",
       "    }\n",
       "\n",
       "    .dataframe tbody tr th {\n",
       "        vertical-align: top;\n",
       "    }\n",
       "\n",
       "    .dataframe thead th {\n",
       "        text-align: right;\n",
       "    }\n",
       "</style>\n",
       "<table border=\"1\" class=\"dataframe\">\n",
       "  <thead>\n",
       "    <tr style=\"text-align: right;\">\n",
       "      <th></th>\n",
       "      <th>불만족</th>\n",
       "      <th>신입_퇴사자</th>\n",
       "    </tr>\n",
       "  </thead>\n",
       "  <tbody>\n",
       "    <tr>\n",
       "      <th>0</th>\n",
       "      <td>14.9</td>\n",
       "      <td>7500.0</td>\n",
       "    </tr>\n",
       "    <tr>\n",
       "      <th>1</th>\n",
       "      <td>15.4</td>\n",
       "      <td>1851.0</td>\n",
       "    </tr>\n",
       "    <tr>\n",
       "      <th>2</th>\n",
       "      <td>19.3</td>\n",
       "      <td>1666.0</td>\n",
       "    </tr>\n",
       "    <tr>\n",
       "      <th>3</th>\n",
       "      <td>18.4</td>\n",
       "      <td>3525.0</td>\n",
       "    </tr>\n",
       "    <tr>\n",
       "      <th>4</th>\n",
       "      <td>17.1</td>\n",
       "      <td>205.0</td>\n",
       "    </tr>\n",
       "    <tr>\n",
       "      <th>6</th>\n",
       "      <td>16.8</td>\n",
       "      <td>1894.0</td>\n",
       "    </tr>\n",
       "    <tr>\n",
       "      <th>8</th>\n",
       "      <td>17.6</td>\n",
       "      <td>501.0</td>\n",
       "    </tr>\n",
       "    <tr>\n",
       "      <th>9</th>\n",
       "      <td>19.7</td>\n",
       "      <td>3179.0</td>\n",
       "    </tr>\n",
       "    <tr>\n",
       "      <th>10</th>\n",
       "      <td>16.8</td>\n",
       "      <td>3434.0</td>\n",
       "    </tr>\n",
       "    <tr>\n",
       "      <th>11</th>\n",
       "      <td>18.2</td>\n",
       "      <td>1016.0</td>\n",
       "    </tr>\n",
       "    <tr>\n",
       "      <th>12</th>\n",
       "      <td>16.6</td>\n",
       "      <td>650.0</td>\n",
       "    </tr>\n",
       "    <tr>\n",
       "      <th>13</th>\n",
       "      <td>19.8</td>\n",
       "      <td>715.0</td>\n",
       "    </tr>\n",
       "    <tr>\n",
       "      <th>15</th>\n",
       "      <td>21.6</td>\n",
       "      <td>74.0</td>\n",
       "    </tr>\n",
       "  </tbody>\n",
       "</table>\n",
       "</div>"
      ],
      "text/plain": [
       "     불만족  신입_퇴사자\n",
       "0   14.9  7500.0\n",
       "1   15.4  1851.0\n",
       "2   19.3  1666.0\n",
       "3   18.4  3525.0\n",
       "4   17.1   205.0\n",
       "6   16.8  1894.0\n",
       "8   17.6   501.0\n",
       "9   19.7  3179.0\n",
       "10  16.8  3434.0\n",
       "11  18.2  1016.0\n",
       "12  16.6   650.0\n",
       "13  19.8   715.0\n",
       "15  21.6    74.0"
      ]
     },
     "execution_count": 7,
     "metadata": {},
     "output_type": "execute_result"
    }
   ],
   "source": [
    "\n",
    "df = pd.DataFrame({\"불만족\": total_list, \"신입_퇴사자\": new_2020})\n",
    "\n",
    "mean = int(df[\"신입_퇴사자\"].mean() + 0.5)\n",
    "\n",
    "Q1 = df.quantile(0.25)\n",
    "Q3 = df.quantile(0.75)\n",
    "IQR = Q3 - Q1\n",
    "\n",
    "filtered_df = df[(df >= (Q1 - 1.5 * IQR)) & (df <= (Q3 + 1.5 * IQR))].dropna()\n",
    "\n",
    "correlation = filtered_df[\"불만족\"].corr(filtered_df[\"신입_퇴사자\"])\n",
    "print(correlation)\n",
    "filtered_df"
   ]
  },
  {
   "cell_type": "code",
   "execution_count": 8,
   "metadata": {},
   "outputs": [],
   "source": [
    "# import statsmodels.api as sm\n",
    "# mean = int(pd.Series(new).mean()+0.5)\n",
    "# df_high = pd.DataFrame({\"불만족\": total_list, \"신입_퇴사자\": new})\n",
    "# df_high[\"퇴사율\"] = (df_high[\"신입_퇴사자\"] > mean).astype(int)\n",
    "#\n",
    "# X = df_high['불만족']\n",
    "# X = sm.add_constant(X)\n",
    "# Y = df_high['퇴사율']\n",
    "\n",
    "# model = sm.OLS(Y, X).fit()\n",
    "\n",
    "# print(model.summary())"
   ]
  },
  {
   "cell_type": "code",
   "execution_count": 9,
   "metadata": {},
   "outputs": [
    {
     "ename": "NameError",
     "evalue": "name 'df_not_satisfied' is not defined",
     "output_type": "error",
     "traceback": [
      "\u001b[1;31m---------------------------------------------------------------------------\u001b[0m",
      "\u001b[1;31mNameError\u001b[0m                                 Traceback (most recent call last)",
      "Cell \u001b[1;32mIn[9], line 7\u001b[0m\n\u001b[0;32m      5\u001b[0m font_name \u001b[38;5;241m=\u001b[39m fm\u001b[38;5;241m.\u001b[39mFontProperties(fname\u001b[38;5;241m=\u001b[39mfont_path)\u001b[38;5;241m.\u001b[39mget_name()\n\u001b[0;32m      6\u001b[0m plt\u001b[38;5;241m.\u001b[39mrc(\u001b[38;5;124m\"\u001b[39m\u001b[38;5;124mfont\u001b[39m\u001b[38;5;124m\"\u001b[39m, family\u001b[38;5;241m=\u001b[39mfont_name)\n\u001b[1;32m----> 7\u001b[0m sns\u001b[38;5;241m.\u001b[39mregplot(x\u001b[38;5;241m=\u001b[39mdf_not_satisfied[\u001b[38;5;124m'\u001b[39m\u001b[38;5;124m불만족\u001b[39m\u001b[38;5;124m'\u001b[39m], y\u001b[38;5;241m=\u001b[39mdf_not_satisfied[\u001b[38;5;124m'\u001b[39m\u001b[38;5;124m신입_퇴사자\u001b[39m\u001b[38;5;124m'\u001b[39m])\n",
      "\u001b[1;31mNameError\u001b[0m: name 'df_not_satisfied' is not defined"
     ]
    }
   ],
   "source": [
    "import seaborn as sns\n",
    "import matplotlib.pyplot as plt\n",
    "import matplotlib.font_manager as fm\n",
    "font_path = \"C:/Windows/Fonts/malgun.ttf\"\n",
    "font_name = fm.FontProperties(fname=font_path).get_name()\n",
    "plt.rc(\"font\", family=font_name)\n",
    "sns.regplot(x=df_not_satisfied['불만족'], y=df_not_satisfied['신입_퇴사자'])"
   ]
  },
  {
   "cell_type": "code",
   "execution_count": 82,
   "metadata": {},
   "outputs": [
    {
     "data": {
      "text/plain": [
       "<Axes: >"
      ]
     },
     "execution_count": 82,
     "metadata": {},
     "output_type": "execute_result"
    },
    {
     "data": {
      "image/png": "[encoded data removed]",
      "text/plain": [
       "<Figure size 640x480 with 2 Axes>"
      ]
     },
     "metadata": {},
     "output_type": "display_data"
    }
   ],
   "source": [
    "df = pd.DataFrame({\"불만족\": total_list, \"신입_퇴사자\": new_2020})\n",
    "sns.heatmap(data=df, annot=True)"
   ]
  },
  {
   "cell_type": "code",
   "execution_count": null,
   "metadata": {},
   "outputs": [],
   "source": []
  }
 ],
 "metadata": {
  "kernelspec": {
   "display_name": "base",
   "language": "python",
   "name": "python3"
  },
  "language_info": {
   "codemirror_mode": {
    "name": "ipython",
    "version": 3
   },
   "file_extension": ".py",
   "mimetype": "text/x-python",
   "name": "python",
   "nbconvert_exporter": "python",
   "pygments_lexer": "ipython3",
   "version": "3.12.4"
  }
 },
 "nbformat": 4,
 "nbformat_minor": 2
}
