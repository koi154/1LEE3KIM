{
 "cells": [
  {
   "cell_type": "code",
   "execution_count": 29,
   "metadata": {},
   "outputs": [],
   "source": [
    "import pandas as pd\n",
    "import matplotlib.pyplot as plt\n",
    "import seaborn as sns"
   ]
  },
  {
   "cell_type": "code",
   "execution_count": 30,
   "metadata": {},
   "outputs": [
    {
     "name": "stderr",
     "output_type": "stream",
     "text": [
      "c:\\Users\\dawoo\\anaconda3\\Lib\\site-packages\\openpyxl\\styles\\stylesheet.py:226: UserWarning: Workbook contains no default style, apply openpyxl's default\n",
      "  warn(\"Workbook contains no default style, apply openpyxl's default\")\n"
     ]
    },
    {
     "data": {
      "text/plain": [
       "[7231209,\n",
       " 2461682,\n",
       " 1751119,\n",
       " 2171715,\n",
       " 1033715,\n",
       " 1307986,\n",
       " 838950,\n",
       " 9782084,\n",
       " 1080135,\n",
       " 1132221,\n",
       " 1459144,\n",
       " 1224104,\n",
       " 1232578,\n",
       " 1827700,\n",
       " 2359396,\n",
       " 469839]"
      ]
     },
     "execution_count": 30,
     "metadata": {},
     "output_type": "execute_result"
    }
   ],
   "source": [
    "p = pd.read_excel(\"./input/연령별인구현황_2020.xlsx\", skiprows=4)\n",
    "list = p.iloc[:, 3]\n",
    "data = []\n",
    "for i in range(len(p)):\n",
    "    num = list.iloc[i].replace(\",\", \"\")\n",
    "    data.append(int(num))\n",
    "data[5]+=data[7]\n",
    "del data[7]\n",
    "data"
   ]
  },
  {
   "cell_type": "code",
   "execution_count": 31,
   "metadata": {},
   "outputs": [
    {
     "name": "stdout",
     "output_type": "stream",
     "text": [
      "[14.9, 15.4, 19.3, 18.4, 17.1, 36.2, 16.8, 17.1, 17.6, 19.7, 16.8, 18.200000000000003, 16.599999999999998, 19.8, 17.8, 21.599999999999998]\n"
     ]
    }
   ],
   "source": [
    "satisfied = pd.read_excel(\"./input/2020/근로_환경_만족도_2020.xlsx\")\n",
    "satisfied = satisfied.drop(columns=\"특성별(1)\", axis=1)\n",
    "satisfied = satisfied.set_index(\"특성별(2)\")\n",
    "\n",
    "satisfied_1 = satisfied.iloc[10:27, -4]\n",
    "satisfied_2 = satisfied.iloc[10:27, -3]\n",
    "\n",
    "total_list = []\n",
    "for i in range(len(satisfied_1)):\n",
    "    total = satisfied_1.iloc[i]+satisfied_2.iloc[i]\n",
    "    total_list.append(total)\n",
    "# 311 49\n",
    "total_list[5]+=total_list[7]\n",
    "del total_list[7]\n",
    "\n",
    "# satisfied_1\n",
    "# satisfied_2\n",
    "\n",
    "print(total_list)"
   ]
  },
  {
   "cell_type": "code",
   "execution_count": 32,
   "metadata": {},
   "outputs": [],
   "source": [
    "# local_people = pd.read_excel(\"./output/지역별_퇴사자3.xlsx\")\n",
    "# local_people = local_people.iloc[:, [0, -9, -8, -7]]\n",
    "# local_people = local_people.rename(\n",
    "#     columns={\"2020.1\": \"경력\", \"2020.2\": \"입사경험\", \"2020.3\": \"신입\"})\n",
    "# local_people = local_people.drop(index=0)\n",
    "# list = local_people.iloc[1:, 3]\n",
    "# new = []\n",
    "# for i in range(len(list)):\n",
    "#     num_str = list.iloc[i].replace(\",\", \"\")\n",
    "#     # print(num_str)\n",
    "#     new.append(int(num_str))\n",
    "# new"
   ]
  },
  {
   "cell_type": "code",
   "execution_count": 33,
   "metadata": {},
   "outputs": [
    {
     "data": {
      "text/plain": [
       "[0.10371709626979389,\n",
       " 0.07519249033790718,\n",
       " 0.09513916529944567,\n",
       " 0.1623141158024879,\n",
       " 0.0198313848594632,\n",
       " 0.15000160552177164,\n",
       " 0.22575838846176768,\n",
       " 0.12241767705122956,\n",
       " 0.046383091002513574,\n",
       " 0.2807755729667618,\n",
       " 0.23534346164600617,\n",
       " 0.08299948370399901,\n",
       " 0.05273499932661463,\n",
       " 0.03912020572303988,\n",
       " 0.35966832189255216,\n",
       " 0.015750076089894625]"
      ]
     },
     "execution_count": 33,
     "metadata": {},
     "output_type": "execute_result"
    }
   ],
   "source": [
    "local_people_2020 = pd.read_excel(\"./output/지역별_퇴사자3.xlsx\")\n",
    "local_people_2020 = local_people_2020.iloc[:, [0, -9, -8, -7]]\n",
    "local_people_2020 = local_people_2020.rename(\n",
    "    columns={\"2020.1\": \"경력\", \"2020.2\": \"입사경험\", \"2020.3\": \"신입\"})\n",
    "local_people_2020 = local_people_2020.drop(index=0)\n",
    "list = local_people_2020.iloc[1:, 3]\n",
    "new_2020 = []\n",
    "for i in range(len(list)):\n",
    "    num_str = list.iloc[i].replace(\",\", \"\")\n",
    "    # print(num_str)\n",
    "    new_2020.append(int(num_str)/data[i]*100)\n",
    "new_2020"
   ]
  },
  {
   "cell_type": "code",
   "execution_count": 39,
   "metadata": {},
   "outputs": [
    {
     "name": "stdout",
     "output_type": "stream",
     "text": [
      "0.02716109794371827\n"
     ]
    },
    {
     "data": {
      "text/html": [
       "<div>\n",
       "<style scoped>\n",
       "    .dataframe tbody tr th:only-of-type {\n",
       "        vertical-align: middle;\n",
       "    }\n",
       "\n",
       "    .dataframe tbody tr th {\n",
       "        vertical-align: top;\n",
       "    }\n",
       "\n",
       "    .dataframe thead th {\n",
       "        text-align: right;\n",
       "    }\n",
       "</style>\n",
       "<table border=\"1\" class=\"dataframe\">\n",
       "  <thead>\n",
       "    <tr style=\"text-align: right;\">\n",
       "      <th></th>\n",
       "      <th>불만족</th>\n",
       "      <th>신입_퇴사자</th>\n",
       "    </tr>\n",
       "  </thead>\n",
       "  <tbody>\n",
       "    <tr>\n",
       "      <th>0</th>\n",
       "      <td>14.9</td>\n",
       "      <td>0.103717</td>\n",
       "    </tr>\n",
       "    <tr>\n",
       "      <th>1</th>\n",
       "      <td>15.4</td>\n",
       "      <td>0.075192</td>\n",
       "    </tr>\n",
       "    <tr>\n",
       "      <th>2</th>\n",
       "      <td>19.3</td>\n",
       "      <td>0.095139</td>\n",
       "    </tr>\n",
       "    <tr>\n",
       "      <th>3</th>\n",
       "      <td>18.4</td>\n",
       "      <td>0.162314</td>\n",
       "    </tr>\n",
       "    <tr>\n",
       "      <th>4</th>\n",
       "      <td>17.1</td>\n",
       "      <td>0.019831</td>\n",
       "    </tr>\n",
       "    <tr>\n",
       "      <th>5</th>\n",
       "      <td>36.2</td>\n",
       "      <td>0.150002</td>\n",
       "    </tr>\n",
       "    <tr>\n",
       "      <th>6</th>\n",
       "      <td>16.8</td>\n",
       "      <td>0.225758</td>\n",
       "    </tr>\n",
       "    <tr>\n",
       "      <th>7</th>\n",
       "      <td>17.1</td>\n",
       "      <td>0.122418</td>\n",
       "    </tr>\n",
       "    <tr>\n",
       "      <th>8</th>\n",
       "      <td>17.6</td>\n",
       "      <td>0.046383</td>\n",
       "    </tr>\n",
       "    <tr>\n",
       "      <th>9</th>\n",
       "      <td>19.7</td>\n",
       "      <td>0.280776</td>\n",
       "    </tr>\n",
       "    <tr>\n",
       "      <th>10</th>\n",
       "      <td>16.8</td>\n",
       "      <td>0.235343</td>\n",
       "    </tr>\n",
       "    <tr>\n",
       "      <th>11</th>\n",
       "      <td>18.2</td>\n",
       "      <td>0.082999</td>\n",
       "    </tr>\n",
       "    <tr>\n",
       "      <th>12</th>\n",
       "      <td>16.6</td>\n",
       "      <td>0.052735</td>\n",
       "    </tr>\n",
       "    <tr>\n",
       "      <th>13</th>\n",
       "      <td>19.8</td>\n",
       "      <td>0.039120</td>\n",
       "    </tr>\n",
       "    <tr>\n",
       "      <th>14</th>\n",
       "      <td>17.8</td>\n",
       "      <td>0.359668</td>\n",
       "    </tr>\n",
       "    <tr>\n",
       "      <th>15</th>\n",
       "      <td>21.6</td>\n",
       "      <td>0.015750</td>\n",
       "    </tr>\n",
       "  </tbody>\n",
       "</table>\n",
       "</div>"
      ],
      "text/plain": [
       "     불만족    신입_퇴사자\n",
       "0   14.9  0.103717\n",
       "1   15.4  0.075192\n",
       "2   19.3  0.095139\n",
       "3   18.4  0.162314\n",
       "4   17.1  0.019831\n",
       "5   36.2  0.150002\n",
       "6   16.8  0.225758\n",
       "7   17.1  0.122418\n",
       "8   17.6  0.046383\n",
       "9   19.7  0.280776\n",
       "10  16.8  0.235343\n",
       "11  18.2  0.082999\n",
       "12  16.6  0.052735\n",
       "13  19.8  0.039120\n",
       "14  17.8  0.359668\n",
       "15  21.6  0.015750"
      ]
     },
     "execution_count": 39,
     "metadata": {},
     "output_type": "execute_result"
    }
   ],
   "source": [
    "\n",
    "df_not_satisfied = pd.DataFrame({\"불만족\": total_list, \"신입_퇴사자\": new_2020})\n",
    "\n",
    "correlation = df_not_satisfied[\"불만족\"].corr(df_not_satisfied[\"신입_퇴사자\"])\n",
    "print(correlation)\n",
    "df_not_satisfied"
   ]
  },
  {
   "cell_type": "code",
   "execution_count": 35,
   "metadata": {},
   "outputs": [],
   "source": [
    "# import statsmodels.api as sm\n",
    "# mean = int(pd.Series(new).mean()+0.5)\n",
    "# df_high = pd.DataFrame({\"불만족\": total_list, \"신입_퇴사자\": new})\n",
    "# df_high[\"퇴사율\"] = (df_high[\"신입_퇴사자\"] > mean).astype(int)\n",
    "#\n",
    "# X = df_high['불만족']\n",
    "# X = sm.add_constant(X)\n",
    "# Y = df_high['퇴사율']\n",
    "\n",
    "# model = sm.OLS(Y, X).fit()\n",
    "\n",
    "# print(model.summary())"
   ]
  },
  {
   "cell_type": "code",
   "execution_count": 40,
   "metadata": {},
   "outputs": [
    {
     "data": {
      "text/plain": [
       "<Axes: xlabel='불만족', ylabel='신입_퇴사자'>"
      ]
     },
     "execution_count": 40,
     "metadata": {},
     "output_type": "execute_result"
    },
    {
     "name": "stderr",
     "output_type": "stream",
     "text": [
      "c:\\Users\\dawoo\\anaconda3\\Lib\\site-packages\\IPython\\core\\events.py:82: UserWarning: Glyph 8722 (\\N{MINUS SIGN}) missing from current font.\n",
      "  func(*args, **kwargs)\n",
      "c:\\Users\\dawoo\\anaconda3\\Lib\\site-packages\\IPython\\core\\pylabtools.py:170: UserWarning: Glyph 8722 (\\N{MINUS SIGN}) missing from current font.\n",
      "  fig.canvas.print_figure(bytes_io, **kw)\n"
     ]
    },
    {
     "data": {
      "image/png": "[encoded data removed]",
      "text/plain": [
       "<Figure size 640x480 with 1 Axes>"
      ]
     },
     "metadata": {},
     "output_type": "display_data"
    }
   ],
   "source": [
    "import seaborn as sns\n",
    "import matplotlib.pyplot as plt\n",
    "import matplotlib.font_manager as fm\n",
    "font_path = \"C:/Windows/Fonts/malgun.ttf\"\n",
    "font_name = fm.FontProperties(fname=font_path).get_name()\n",
    "plt.rc(\"font\", family=font_name)\n",
    "sns.regplot(x=df_not_satisfied['불만족'], y=df_not_satisfied['신입_퇴사자'])"
   ]
  },
  {
   "cell_type": "code",
   "execution_count": 37,
   "metadata": {},
   "outputs": [
    {
     "data": {
      "text/plain": [
       "<Axes: >"
      ]
     },
     "execution_count": 37,
     "metadata": {},
     "output_type": "execute_result"
    },
    {
     "data": {
      "image/png": "[encoded data removed]",
      "text/plain": [
       "<Figure size 640x480 with 2 Axes>"
      ]
     },
     "metadata": {},
     "output_type": "display_data"
    }
   ],
   "source": [
    "df = pd.DataFrame({\"불만족\": total_list, \"신입_퇴사자\": new})\n",
    "sns.heatmap(data=df, annot=True)"
   ]
  },
  {
   "cell_type": "code",
   "execution_count": null,
   "metadata": {},
   "outputs": [],
   "source": []
  }
 ],
 "metadata": {
  "kernelspec": {
   "display_name": "base",
   "language": "python",
   "name": "python3"
  },
  "language_info": {
   "codemirror_mode": {
    "name": "ipython",
    "version": 3
   },
   "file_extension": ".py",
   "mimetype": "text/x-python",
   "name": "python",
   "nbconvert_exporter": "python",
   "pygments_lexer": "ipython3",
   "version": "3.12.4"
  }
 },
 "nbformat": 4,
 "nbformat_minor": 2
}
