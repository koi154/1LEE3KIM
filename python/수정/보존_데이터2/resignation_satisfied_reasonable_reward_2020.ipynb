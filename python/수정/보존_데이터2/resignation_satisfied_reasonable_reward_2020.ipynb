{
 "cells": [
  {
   "cell_type": "code",
   "execution_count": 1,
   "metadata": {},
   "outputs": [],
   "source": [
    "import pandas as pd\n",
    "import matplotlib.pyplot as plt\n",
    "import seaborn as sns"
   ]
  },
  {
   "cell_type": "code",
   "execution_count": null,
   "metadata": {},
   "outputs": [],
   "source": [
    "# local_people = pd.read_excel(\"./output/지역별_퇴사자3.xlsx\")\n",
    "# local_people = local_people.iloc[:, [0, -9, -8, -7]]\n",
    "# local_people = local_people.rename(\n",
    "#     columns={\"2020.1\": \"경력\", \"2020.2\": \"입사경험\", \"2020.3\": \"신입\"})\n",
    "# local_people = local_people.drop(index=0)\n",
    "# list = local_people.iloc[1:, 3]\n",
    "# new = []\n",
    "# for i in range(len(list)):\n",
    "#     num_str = list.iloc[i].replace(\",\", \"\")\n",
    "#     # print(num_str)\n",
    "#     new.append(int(num_str))\n",
    "# new"
   ]
  },
  {
   "cell_type": "code",
   "execution_count": 3,
   "metadata": {},
   "outputs": [
    {
     "name": "stderr",
     "output_type": "stream",
     "text": [
      "c:\\Users\\dawoo\\anaconda3\\Lib\\site-packages\\openpyxl\\styles\\stylesheet.py:226: UserWarning: Workbook contains no default style, apply openpyxl's default\n",
      "  warn(\"Workbook contains no default style, apply openpyxl's default\")\n"
     ]
    },
    {
     "data": {
      "text/plain": [
       "[7231209,\n",
       " 2461682,\n",
       " 1751119,\n",
       " 2171715,\n",
       " 1033715,\n",
       " 1307986,\n",
       " 838950,\n",
       " 9782084,\n",
       " 1080135,\n",
       " 1132221,\n",
       " 1459144,\n",
       " 1224104,\n",
       " 1232578,\n",
       " 1827700,\n",
       " 2359396,\n",
       " 469839]"
      ]
     },
     "execution_count": 3,
     "metadata": {},
     "output_type": "execute_result"
    }
   ],
   "source": [
    "p = pd.read_excel(\"./input/연령별인구현황_2020.xlsx\", skiprows=4)\n",
    "list = p.iloc[:, 3]\n",
    "data = []\n",
    "for i in range(len(p)):\n",
    "    num = list.iloc[i].replace(\",\", \"\")\n",
    "    data.append(int(num))\n",
    "data[5]+=data[7]\n",
    "del data[7]\n",
    "data"
   ]
  },
  {
   "cell_type": "code",
   "execution_count": 4,
   "metadata": {},
   "outputs": [
    {
     "data": {
      "text/plain": [
       "[0.10371709626979389,\n",
       " 0.07519249033790718,\n",
       " 0.09513916529944567,\n",
       " 0.1623141158024879,\n",
       " 0.0198313848594632,\n",
       " 0.15000160552177164,\n",
       " 0.22575838846176768,\n",
       " 0.12241767705122956,\n",
       " 0.046383091002513574,\n",
       " 0.2807755729667618,\n",
       " 0.23534346164600617,\n",
       " 0.08299948370399901,\n",
       " 0.05273499932661463,\n",
       " 0.03912020572303988,\n",
       " 0.35966832189255216,\n",
       " 0.015750076089894625]"
      ]
     },
     "execution_count": 4,
     "metadata": {},
     "output_type": "execute_result"
    }
   ],
   "source": [
    "local_people = pd.read_excel(\"./output/지역별_퇴사자3.xlsx\")\n",
    "local_people = local_people.iloc[:, [0, -9, -8, -7]]\n",
    "local_people = local_people.rename(\n",
    "    columns={\"2020.1\": \"경력\", \"2020.2\": \"입사경험\", \"2020.3\": \"신입\"})\n",
    "local_people = local_people.drop(index=0)\n",
    "list = local_people.iloc[1:, 3]\n",
    "new_2020 = []\n",
    "for i in range(len(list)):\n",
    "    num_str = list.iloc[i].replace(\",\", \"\")\n",
    "    # print(num_str)\n",
    "    new_2020.append(int(num_str)/data[i]*100)\n",
    "new_2020"
   ]
  },
  {
   "cell_type": "code",
   "execution_count": 8,
   "metadata": {},
   "outputs": [
    {
     "data": {
      "text/plain": [
       "[10.8,\n",
       " 16.0,\n",
       " 14.100000000000001,\n",
       " 14.5,\n",
       " 18.3,\n",
       " 22.7,\n",
       " 17.0,\n",
       " 13.9,\n",
       " 21.0,\n",
       " 16.4,\n",
       " 19.0,\n",
       " 16.0,\n",
       " 21.599999999999998,\n",
       " 17.3,\n",
       " 16.1,\n",
       " 29.4]"
      ]
     },
     "execution_count": 8,
     "metadata": {},
     "output_type": "execute_result"
    }
   ],
   "source": [
    "reward = pd.read_excel(\"./input/2020/업무_관련_동의_정도_2020.xlsx\")\n",
    "not_reasonable1 = reward.iloc[11:28, 6:8].sum(axis=1)\n",
    "\n",
    "nrl1 = []\n",
    "for i in range(len(not_reasonable1)):\n",
    "    result = not_reasonable1.iloc[i]\n",
    "    # print(result)\n",
    "    nrl1.append(result)\n",
    "# nrl1\n",
    "nrl1[5] += nrl1[7]\n",
    "del nrl1[7]\n",
    "\n",
    "nrl1"
   ]
  },
  {
   "cell_type": "code",
   "execution_count": 6,
   "metadata": {},
   "outputs": [],
   "source": [
    "# reward = pd.read_excel(\"./input/2020/업무_관련_동의_정도_2020.xlsx\")\n",
    "# total_reward = reward.iloc[11:28, 2]\n",
    "# reasonable1=reward.iloc[11:28,3]\n",
    "\n",
    "\n",
    "# nrl2 = []\n",
    "# for i in range(len(total_reward)):\n",
    "#     result=int((total_reward.iloc[i]*reasonable1.iloc[i])/100+0.5)\n",
    "#     # print(result)\n",
    "#     nrl2.append(result)\n",
    "# # nrl1\n",
    "# nrl2[5]+=nrl2[7]\n",
    "# del nrl2[7]\n",
    "\n",
    "# nrl2\n",
    "# # sample\n",
    "\n"
   ]
  },
  {
   "cell_type": "code",
   "execution_count": 9,
   "metadata": {},
   "outputs": [
    {
     "name": "stdout",
     "output_type": "stream",
     "text": [
      "적절한 보상이 없는 것과 신입 퇴사자의 상관관계 : -0.29414302015451865\n"
     ]
    },
    {
     "data": {
      "text/html": [
       "<div>\n",
       "<style scoped>\n",
       "    .dataframe tbody tr th:only-of-type {\n",
       "        vertical-align: middle;\n",
       "    }\n",
       "\n",
       "    .dataframe tbody tr th {\n",
       "        vertical-align: top;\n",
       "    }\n",
       "\n",
       "    .dataframe thead th {\n",
       "        text-align: right;\n",
       "    }\n",
       "</style>\n",
       "<table border=\"1\" class=\"dataframe\">\n",
       "  <thead>\n",
       "    <tr style=\"text-align: right;\">\n",
       "      <th></th>\n",
       "      <th>적절한_보상_없음</th>\n",
       "      <th>신입_퇴사자</th>\n",
       "    </tr>\n",
       "  </thead>\n",
       "  <tbody>\n",
       "    <tr>\n",
       "      <th>0</th>\n",
       "      <td>10.8</td>\n",
       "      <td>0.103717</td>\n",
       "    </tr>\n",
       "    <tr>\n",
       "      <th>1</th>\n",
       "      <td>16.0</td>\n",
       "      <td>0.075192</td>\n",
       "    </tr>\n",
       "    <tr>\n",
       "      <th>2</th>\n",
       "      <td>14.1</td>\n",
       "      <td>0.095139</td>\n",
       "    </tr>\n",
       "    <tr>\n",
       "      <th>3</th>\n",
       "      <td>14.5</td>\n",
       "      <td>0.162314</td>\n",
       "    </tr>\n",
       "    <tr>\n",
       "      <th>4</th>\n",
       "      <td>18.3</td>\n",
       "      <td>0.019831</td>\n",
       "    </tr>\n",
       "    <tr>\n",
       "      <th>5</th>\n",
       "      <td>22.7</td>\n",
       "      <td>0.150002</td>\n",
       "    </tr>\n",
       "    <tr>\n",
       "      <th>6</th>\n",
       "      <td>17.0</td>\n",
       "      <td>0.225758</td>\n",
       "    </tr>\n",
       "    <tr>\n",
       "      <th>7</th>\n",
       "      <td>13.9</td>\n",
       "      <td>0.122418</td>\n",
       "    </tr>\n",
       "    <tr>\n",
       "      <th>8</th>\n",
       "      <td>21.0</td>\n",
       "      <td>0.046383</td>\n",
       "    </tr>\n",
       "    <tr>\n",
       "      <th>9</th>\n",
       "      <td>16.4</td>\n",
       "      <td>0.280776</td>\n",
       "    </tr>\n",
       "    <tr>\n",
       "      <th>10</th>\n",
       "      <td>19.0</td>\n",
       "      <td>0.235343</td>\n",
       "    </tr>\n",
       "    <tr>\n",
       "      <th>11</th>\n",
       "      <td>16.0</td>\n",
       "      <td>0.082999</td>\n",
       "    </tr>\n",
       "    <tr>\n",
       "      <th>12</th>\n",
       "      <td>21.6</td>\n",
       "      <td>0.052735</td>\n",
       "    </tr>\n",
       "    <tr>\n",
       "      <th>13</th>\n",
       "      <td>17.3</td>\n",
       "      <td>0.039120</td>\n",
       "    </tr>\n",
       "    <tr>\n",
       "      <th>14</th>\n",
       "      <td>16.1</td>\n",
       "      <td>0.359668</td>\n",
       "    </tr>\n",
       "    <tr>\n",
       "      <th>15</th>\n",
       "      <td>29.4</td>\n",
       "      <td>0.015750</td>\n",
       "    </tr>\n",
       "  </tbody>\n",
       "</table>\n",
       "</div>"
      ],
      "text/plain": [
       "    적절한_보상_없음    신입_퇴사자\n",
       "0        10.8  0.103717\n",
       "1        16.0  0.075192\n",
       "2        14.1  0.095139\n",
       "3        14.5  0.162314\n",
       "4        18.3  0.019831\n",
       "5        22.7  0.150002\n",
       "6        17.0  0.225758\n",
       "7        13.9  0.122418\n",
       "8        21.0  0.046383\n",
       "9        16.4  0.280776\n",
       "10       19.0  0.235343\n",
       "11       16.0  0.082999\n",
       "12       21.6  0.052735\n",
       "13       17.3  0.039120\n",
       "14       16.1  0.359668\n",
       "15       29.4  0.015750"
      ]
     },
     "execution_count": 9,
     "metadata": {},
     "output_type": "execute_result"
    }
   ],
   "source": [
    "df_high = pd.DataFrame({\"적절한_보상_없음\": nrl1, \"신입_퇴사자\": new_2020})\n",
    "\n",
    "\n",
    "X = df_high[\"적절한_보상_없음\"]\n",
    "y = df_high[\"신입_퇴사자\"]\n",
    "\n",
    "correlation_not_reasonable_reward = X.corr(y)\n",
    "\n",
    "# print(mean)\n",
    "# print(df)\n",
    "print(f\"적절한 보상이 없는 것과 신입 퇴사자의 상관관계 : {correlation_not_reasonable_reward}\")\n",
    "df_high"
   ]
  },
  {
   "cell_type": "code",
   "execution_count": 41,
   "metadata": {},
   "outputs": [
    {
     "data": {
      "text/plain": [
       "<Axes: xlabel='적절한_보상_없음', ylabel='퇴사율'>"
      ]
     },
     "execution_count": 41,
     "metadata": {},
     "output_type": "execute_result"
    },
    {
     "data": {
      "image/png": "[encoded data removed]",
      "text/plain": [
       "<Figure size 640x480 with 1 Axes>"
      ]
     },
     "metadata": {},
     "output_type": "display_data"
    }
   ],
   "source": [
    "import seaborn as sns\n",
    "import matplotlib.pyplot as plt\n",
    "import matplotlib.font_manager as fm\n",
    "font_path = \"C:/Windows/Fonts/malgun.ttf\"\n",
    "font_name = fm.FontProperties(fname=font_path).get_name()\n",
    "plt.rc(\"font\", family=font_name)\n",
    "sns.regplot(x=df_high[\"적절한_보상_없음\"], y=df_high['퇴사율'])"
   ]
  },
  {
   "cell_type": "code",
   "execution_count": 37,
   "metadata": {},
   "outputs": [
    {
     "name": "stdout",
     "output_type": "stream",
     "text": [
      "적절한 보상이 있는 것과 신입 퇴사자의 상관관계 : -0.5537861999948858\n"
     ]
    }
   ],
   "source": [
    "mean = int(pd.Series(new).mean()+0.5)\n",
    "\n",
    "df_low = pd.DataFrame({\"적절한_보상_있음\": nrl2, \"신입_퇴사자\": new})\n",
    "df_low[\"퇴사율\"] = (df_low[\"신입_퇴사자\"] < mean).astype(int)\n",
    "\n",
    "X = df_low[\"적절한_보상_있음\"]\n",
    "y = df_low[\"퇴사율\"]\n",
    "\n",
    "correlation_not_reasonable_reward = X.corr(y)\n",
    "\n",
    "\n",
    "print(f\"적절한 보상이 있는 것과 신입 퇴사자의 상관관계 : {correlation_not_reasonable_reward}\")\n"
   ]
  },
  {
   "cell_type": "code",
   "execution_count": 38,
   "metadata": {},
   "outputs": [
    {
     "data": {
      "text/plain": [
       "<Axes: xlabel='적절한_보상_있음', ylabel='퇴사율'>"
      ]
     },
     "execution_count": 38,
     "metadata": {},
     "output_type": "execute_result"
    },
    {
     "name": "stderr",
     "output_type": "stream",
     "text": [
      "c:\\Users\\dawoo\\anaconda3\\Lib\\site-packages\\IPython\\core\\events.py:82: UserWarning: Glyph 8722 (\\N{MINUS SIGN}) missing from current font.\n",
      "  func(*args, **kwargs)\n",
      "c:\\Users\\dawoo\\anaconda3\\Lib\\site-packages\\IPython\\core\\pylabtools.py:170: UserWarning: Glyph 8722 (\\N{MINUS SIGN}) missing from current font.\n",
      "  fig.canvas.print_figure(bytes_io, **kw)\n"
     ]
    },
    {
     "data": {
      "image/png": "[encoded data removed]",
      "text/plain": [
       "<Figure size 640x480 with 1 Axes>"
      ]
     },
     "metadata": {},
     "output_type": "display_data"
    }
   ],
   "source": [
    "import seaborn as sns\n",
    "import matplotlib.pyplot as plt\n",
    "import matplotlib.font_manager as fm\n",
    "font_path = \"C:/Windows/Fonts/malgun.ttf\"\n",
    "font_name = fm.FontProperties(fname=font_path).get_name()\n",
    "plt.rc(\"font\", family=font_name)\n",
    "sns.regplot(x=df_low['적절한_보상_있음'], y=df_low['퇴사율'])"
   ]
  }
 ],
 "metadata": {
  "kernelspec": {
   "display_name": "base",
   "language": "python",
   "name": "python3"
  },
  "language_info": {
   "codemirror_mode": {
    "name": "ipython",
    "version": 3
   },
   "file_extension": ".py",
   "mimetype": "text/x-python",
   "name": "python",
   "nbconvert_exporter": "python",
   "pygments_lexer": "ipython3",
   "version": "3.12.4"
  }
 },
 "nbformat": 4,
 "nbformat_minor": 2
}
