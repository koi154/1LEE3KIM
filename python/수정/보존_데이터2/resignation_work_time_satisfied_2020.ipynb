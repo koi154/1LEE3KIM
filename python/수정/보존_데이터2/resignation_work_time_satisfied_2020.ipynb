{
 "cells": [
  {
   "cell_type": "code",
   "execution_count": 1,
   "metadata": {},
   "outputs": [],
   "source": [
    "import pandas as pd\n",
    "import matplotlib.pyplot as plt\n",
    "import seaborn as sns"
   ]
  },
  {
   "cell_type": "code",
   "execution_count": 2,
   "metadata": {},
   "outputs": [
    {
     "data": {
      "text/plain": [
       "[7500,\n",
       " 1851,\n",
       " 1666,\n",
       " 3525,\n",
       " 205,\n",
       " 1962,\n",
       " 1894,\n",
       " 11975,\n",
       " 501,\n",
       " 3179,\n",
       " 3434,\n",
       " 1016,\n",
       " 650,\n",
       " 715,\n",
       " 8486,\n",
       " 74]"
      ]
     },
     "execution_count": 2,
     "metadata": {},
     "output_type": "execute_result"
    }
   ],
   "source": [
    "local_people = pd.read_excel(\"./output/지역별_퇴사자3.xlsx\")\n",
    "local_people = local_people.iloc[:, [0, -9, -8, -7]]\n",
    "local_people = local_people.rename(\n",
    "    columns={\"2020.1\": \"경력\", \"2020.2\": \"입사경험\", \"2020.3\": \"신입\"})\n",
    "local_people = local_people.drop(index=0)\n",
    "list = local_people.iloc[1:, 3]\n",
    "new = []\n",
    "for i in range(len(list)):\n",
    "    num_str = list.iloc[i].replace(\",\", \"\")\n",
    "    # print(num_str)\n",
    "    new.append(int(num_str))\n",
    "new"
   ]
  },
  {
   "cell_type": "code",
   "execution_count": 3,
   "metadata": {},
   "outputs": [
    {
     "data": {
      "text/plain": [
       "[1659,\n",
       " 379,\n",
       " 350,\n",
       " 306,\n",
       " 203,\n",
       " 292,\n",
       " 130,\n",
       " 2361,\n",
       " 214,\n",
       " 139,\n",
       " 286,\n",
       " 127,\n",
       " 289,\n",
       " 340,\n",
       " 368,\n",
       " 106]"
      ]
     },
     "execution_count": 3,
     "metadata": {},
     "output_type": "execute_result"
    }
   ],
   "source": [
    "work_time = pd.read_excel(\"./input/2020/실제_근무시간과_희망_근무시간_비교_2020.xlsx\")\n",
    "total_people = work_time.iloc[10:27, 2]\n",
    "work_time_high = work_time.iloc[10:27, -2]\n",
    "work_time_low = work_time.iloc[10:27, 3]\n",
    "work_time\n",
    "total_people\n",
    "\n",
    "work_time_low_satisfied = []\n",
    "work_time_high_satisfied = []\n",
    "for i in range(len(total_people)):\n",
    "    # print(total_people.iloc[i])\n",
    "    work_time_high_satisfied.append(\n",
    "        int(total_people.iloc[i]*work_time_high.iloc[i]/100+0.5))\n",
    "    work_time_low_satisfied.append(\n",
    "        int(total_people.iloc[i]*work_time_low.iloc[i]/100+0.5))\n",
    "work_time_high_satisfied[5] += work_time_high_satisfied[7]\n",
    "work_time_low_satisfied[5] += work_time_low_satisfied[7]\n",
    "del work_time_high_satisfied[7]\n",
    "del work_time_low_satisfied[7]\n",
    "work_time_low_satisfied\n",
    "# work_time_high_satisfied\n",
    "# 적은 집단과 많은 집단을 두 개로 나눠서 데이터를 돌려보자"
   ]
  },
  {
   "cell_type": "code",
   "execution_count": 4,
   "metadata": {},
   "outputs": [
    {
     "name": "stdout",
     "output_type": "stream",
     "text": [
      "낮은 근무시간과 퇴사자 수의 상관관계 : 0.826719245736147\n",
      "높은 근무시간과 퇴사자 수의 상관관계 : 0.8406699966357438\n"
     ]
    },
    {
     "data": {
      "text/html": [
       "<div>\n",
       "<style scoped>\n",
       "    .dataframe tbody tr th:only-of-type {\n",
       "        vertical-align: middle;\n",
       "    }\n",
       "\n",
       "    .dataframe tbody tr th {\n",
       "        vertical-align: top;\n",
       "    }\n",
       "\n",
       "    .dataframe thead th {\n",
       "        text-align: right;\n",
       "    }\n",
       "</style>\n",
       "<table border=\"1\" class=\"dataframe\">\n",
       "  <thead>\n",
       "    <tr style=\"text-align: right;\">\n",
       "      <th></th>\n",
       "      <th>낮은_근무시간</th>\n",
       "      <th>높은_근무시간</th>\n",
       "      <th>신입_퇴사자</th>\n",
       "    </tr>\n",
       "  </thead>\n",
       "  <tbody>\n",
       "    <tr>\n",
       "      <th>0</th>\n",
       "      <td>1659</td>\n",
       "      <td>811</td>\n",
       "      <td>7500</td>\n",
       "    </tr>\n",
       "    <tr>\n",
       "      <th>1</th>\n",
       "      <td>379</td>\n",
       "      <td>444</td>\n",
       "      <td>1851</td>\n",
       "    </tr>\n",
       "    <tr>\n",
       "      <th>2</th>\n",
       "      <td>350</td>\n",
       "      <td>302</td>\n",
       "      <td>1666</td>\n",
       "    </tr>\n",
       "    <tr>\n",
       "      <th>3</th>\n",
       "      <td>306</td>\n",
       "      <td>338</td>\n",
       "      <td>3525</td>\n",
       "    </tr>\n",
       "    <tr>\n",
       "      <th>4</th>\n",
       "      <td>203</td>\n",
       "      <td>207</td>\n",
       "      <td>205</td>\n",
       "    </tr>\n",
       "    <tr>\n",
       "      <th>5</th>\n",
       "      <td>292</td>\n",
       "      <td>224</td>\n",
       "      <td>1962</td>\n",
       "    </tr>\n",
       "    <tr>\n",
       "      <th>6</th>\n",
       "      <td>130</td>\n",
       "      <td>139</td>\n",
       "      <td>1894</td>\n",
       "    </tr>\n",
       "    <tr>\n",
       "      <th>7</th>\n",
       "      <td>2361</td>\n",
       "      <td>1154</td>\n",
       "      <td>11975</td>\n",
       "    </tr>\n",
       "    <tr>\n",
       "      <th>8</th>\n",
       "      <td>214</td>\n",
       "      <td>128</td>\n",
       "      <td>501</td>\n",
       "    </tr>\n",
       "    <tr>\n",
       "      <th>9</th>\n",
       "      <td>139</td>\n",
       "      <td>115</td>\n",
       "      <td>3179</td>\n",
       "    </tr>\n",
       "    <tr>\n",
       "      <th>10</th>\n",
       "      <td>286</td>\n",
       "      <td>220</td>\n",
       "      <td>3434</td>\n",
       "    </tr>\n",
       "    <tr>\n",
       "      <th>11</th>\n",
       "      <td>127</td>\n",
       "      <td>252</td>\n",
       "      <td>1016</td>\n",
       "    </tr>\n",
       "    <tr>\n",
       "      <th>12</th>\n",
       "      <td>289</td>\n",
       "      <td>192</td>\n",
       "      <td>650</td>\n",
       "    </tr>\n",
       "    <tr>\n",
       "      <th>13</th>\n",
       "      <td>340</td>\n",
       "      <td>316</td>\n",
       "      <td>715</td>\n",
       "    </tr>\n",
       "    <tr>\n",
       "      <th>14</th>\n",
       "      <td>368</td>\n",
       "      <td>371</td>\n",
       "      <td>8486</td>\n",
       "    </tr>\n",
       "    <tr>\n",
       "      <th>15</th>\n",
       "      <td>106</td>\n",
       "      <td>65</td>\n",
       "      <td>74</td>\n",
       "    </tr>\n",
       "  </tbody>\n",
       "</table>\n",
       "</div>"
      ],
      "text/plain": [
       "    낮은_근무시간  높은_근무시간  신입_퇴사자\n",
       "0      1659      811    7500\n",
       "1       379      444    1851\n",
       "2       350      302    1666\n",
       "3       306      338    3525\n",
       "4       203      207     205\n",
       "5       292      224    1962\n",
       "6       130      139    1894\n",
       "7      2361     1154   11975\n",
       "8       214      128     501\n",
       "9       139      115    3179\n",
       "10      286      220    3434\n",
       "11      127      252    1016\n",
       "12      289      192     650\n",
       "13      340      316     715\n",
       "14      368      371    8486\n",
       "15      106       65      74"
      ]
     },
     "execution_count": 4,
     "metadata": {},
     "output_type": "execute_result"
    }
   ],
   "source": [
    "df = pd.DataFrame({\"낮은_근무시간\": work_time_low_satisfied,\n",
    "                  \"높은_근무시간\": work_time_high_satisfied, \"신입_퇴사자\": new})\n",
    "correlation_low = df[\"낮은_근무시간\"].corr(df[\"신입_퇴사자\"])\n",
    "correlation_high = df[\"높은_근무시간\"].corr(df[\"신입_퇴사자\"])\n",
    "print(f\"낮은 근무시간과 퇴사자 수의 상관관계 : {correlation_low}\")\n",
    "print(f\"높은 근무시간과 퇴사자 수의 상관관계 : {correlation_high}\")\n",
    "df"
   ]
  },
  {
   "cell_type": "code",
   "execution_count": 5,
   "metadata": {},
   "outputs": [
    {
     "name": "stdout",
     "output_type": "stream",
     "text": [
      "                            OLS Regression Results                            \n",
      "==============================================================================\n",
      "Dep. Variable:                 신입_퇴사자   R-squared:                       0.683\n",
      "Model:                            OLS   Adj. R-squared:                  0.661\n",
      "Method:                 Least Squares   F-statistic:                     30.23\n",
      "Date:                Fri, 27 Dec 2024   Prob (F-statistic):           7.85e-05\n",
      "Time:                        23:36:09   Log-Likelihood:                -143.12\n",
      "No. Observations:                  16   AIC:                             290.2\n",
      "Df Residuals:                      14   BIC:                             291.8\n",
      "Df Model:                           1                                         \n",
      "Covariance Type:            nonrobust                                         \n",
      "==============================================================================\n",
      "                 coef    std err          t      P>|t|      [0.025      0.975]\n",
      "------------------------------------------------------------------------------\n",
      "const        898.4507    630.579      1.425      0.176    -454.006    2250.907\n",
      "낮은_근무시간        4.5381      0.825      5.498      0.000       2.768       6.308\n",
      "==============================================================================\n",
      "Omnibus:                       19.039   Durbin-Watson:                   2.571\n",
      "Prob(Omnibus):                  0.000   Jarque-Bera (JB):               18.816\n",
      "Skew:                           1.915   Prob(JB):                     8.20e-05\n",
      "Kurtosis:                       6.683   Cond. No.                         971.\n",
      "==============================================================================\n",
      "\n",
      "Notes:\n",
      "[1] Standard Errors assume that the covariance matrix of the errors is correctly specified.\n"
     ]
    },
    {
     "name": "stderr",
     "output_type": "stream",
     "text": [
      "c:\\Users\\dawoo\\anaconda3\\Lib\\site-packages\\scipy\\stats\\_axis_nan_policy.py:531: UserWarning: kurtosistest only valid for n>=20 ... continuing anyway, n=16\n",
      "  res = hypotest_fun_out(*samples, **kwds)\n"
     ]
    }
   ],
   "source": [
    "import statsmodels.api as sm\n",
    "\n",
    "df = pd.DataFrame({\"낮은_근무시간\": work_time_low_satisfied,\n",
    "                  \"높은_근무시간\": work_time_high_satisfied, \"신입_퇴사자\": new})\n",
    "correlation_low = df[\"낮은_근무시간\"].corr(df[\"신입_퇴사자\"])\n",
    "# print(correlation)\n",
    "\n",
    "X = df['낮은_근무시간']\n",
    "X = sm.add_constant(X)\n",
    "Y = df['신입_퇴사자']\n",
    "\n",
    "model = sm.OLS(Y, X).fit()\n",
    "\n",
    "print(model.summary())"
   ]
  },
  {
   "cell_type": "code",
   "execution_count": 6,
   "metadata": {},
   "outputs": [
    {
     "name": "stdout",
     "output_type": "stream",
     "text": [
      "                            OLS Regression Results                            \n",
      "==============================================================================\n",
      "Dep. Variable:                 신입_퇴사자   R-squared:                       0.707\n",
      "Model:                            OLS   Adj. R-squared:                  0.686\n",
      "Method:                 Least Squares   F-statistic:                     33.74\n",
      "Date:                Fri, 27 Dec 2024   Prob (F-statistic):           4.54e-05\n",
      "Time:                        23:36:09   Log-Likelihood:                -142.51\n",
      "No. Observations:                  16   AIC:                             289.0\n",
      "Df Residuals:                      14   BIC:                             290.6\n",
      "Df Model:                           1                                         \n",
      "Covariance Type:            nonrobust                                         \n",
      "==============================================================================\n",
      "                 coef    std err          t      P>|t|      [0.025      0.975]\n",
      "------------------------------------------------------------------------------\n",
      "const       -323.7689    750.466     -0.431      0.673   -1933.357    1285.820\n",
      "높은_근무시간       10.1958      1.755      5.808      0.000       6.431      13.961\n",
      "==============================================================================\n",
      "Omnibus:                        9.063   Durbin-Watson:                   2.218\n",
      "Prob(Omnibus):                  0.011   Jarque-Bera (JB):                5.604\n",
      "Skew:                           1.231   Prob(JB):                       0.0607\n",
      "Kurtosis:                       4.533   Cond. No.                         672.\n",
      "==============================================================================\n",
      "\n",
      "Notes:\n",
      "[1] Standard Errors assume that the covariance matrix of the errors is correctly specified.\n"
     ]
    },
    {
     "name": "stderr",
     "output_type": "stream",
     "text": [
      "c:\\Users\\dawoo\\anaconda3\\Lib\\site-packages\\scipy\\stats\\_axis_nan_policy.py:531: UserWarning: kurtosistest only valid for n>=20 ... continuing anyway, n=16\n",
      "  res = hypotest_fun_out(*samples, **kwds)\n"
     ]
    }
   ],
   "source": [
    "import statsmodels.api as sm\n",
    "\n",
    "df = pd.DataFrame({\"낮은_근무시간\": work_time_low_satisfied,\n",
    "                  \"높은_근무시간\": work_time_high_satisfied, \"신입_퇴사자\": new})\n",
    "correlation_low = df[\"높은_근무시간\"].corr(df[\"신입_퇴사자\"])\n",
    "# print(correlation)\n",
    "\n",
    "X = df['높은_근무시간']\n",
    "X = sm.add_constant(X)\n",
    "Y = df['신입_퇴사자']\n",
    "\n",
    "model = sm.OLS(Y, X).fit()\n",
    "\n",
    "print(model.summary())"
   ]
  },
  {
   "cell_type": "code",
   "execution_count": 7,
   "metadata": {},
   "outputs": [
    {
     "data": {
      "text/plain": [
       "<Axes: xlabel='낮은_근무시간', ylabel='신입_퇴사자'>"
      ]
     },
     "execution_count": 7,
     "metadata": {},
     "output_type": "execute_result"
    },
    {
     "data": {
      "image/png": "[encoded data removed]",
      "text/plain": [
       "<Figure size 640x480 with 1 Axes>"
      ]
     },
     "metadata": {},
     "output_type": "display_data"
    }
   ],
   "source": [
    "import seaborn as sns\n",
    "import matplotlib.pyplot as plt\n",
    "import matplotlib.font_manager as fm\n",
    "font_path = \"C:/Windows/Fonts/malgun.ttf\"\n",
    "font_name = fm.FontProperties(fname=font_path).get_name()\n",
    "plt.rc(\"font\", family=font_name)\n",
    "sns.regplot(x=df['낮은_근무시간'], y=df['신입_퇴사자'])"
   ]
  },
  {
   "cell_type": "code",
   "execution_count": 8,
   "metadata": {},
   "outputs": [
    {
     "data": {
      "text/plain": [
       "<Axes: xlabel='높은_근무시간', ylabel='신입_퇴사자'>"
      ]
     },
     "execution_count": 8,
     "metadata": {},
     "output_type": "execute_result"
    },
    {
     "data": {
      "image/png": "[encoded data removed]",
      "text/plain": [
       "<Figure size 640x480 with 1 Axes>"
      ]
     },
     "metadata": {},
     "output_type": "display_data"
    }
   ],
   "source": [
    "import seaborn as sns\n",
    "import matplotlib.pyplot as plt\n",
    "import matplotlib.font_manager as fm\n",
    "font_path = \"C:/Windows/Fonts/malgun.ttf\"\n",
    "font_name = fm.FontProperties(fname=font_path).get_name()\n",
    "plt.rc(\"font\", family=font_name)\n",
    "sns.regplot(x=df['높은_근무시간'], y=df['신입_퇴사자'])"
   ]
  }
 ],
 "metadata": {
  "kernelspec": {
   "display_name": "base",
   "language": "python",
   "name": "python3"
  },
  "language_info": {
   "codemirror_mode": {
    "name": "ipython",
    "version": 3
   },
   "file_extension": ".py",
   "mimetype": "text/x-python",
   "name": "python",
   "nbconvert_exporter": "python",
   "pygments_lexer": "ipython3",
   "version": "3.12.4"
  }
 },
 "nbformat": 4,
 "nbformat_minor": 2
}
