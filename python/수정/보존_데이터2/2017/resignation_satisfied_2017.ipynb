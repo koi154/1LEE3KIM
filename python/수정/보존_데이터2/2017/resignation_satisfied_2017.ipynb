{
 "cells": [
  {
   "cell_type": "code",
   "execution_count": 74,
   "metadata": {},
   "outputs": [],
   "source": [
    "import pandas as pd\n",
    "import matplotlib.pyplot as plt\n",
    "import seaborn as sns"
   ]
  },
  {
   "cell_type": "code",
   "execution_count": 75,
   "metadata": {},
   "outputs": [
    {
     "name": "stderr",
     "output_type": "stream",
     "text": [
      "c:\\Users\\dawoo\\anaconda3\\Lib\\site-packages\\openpyxl\\styles\\stylesheet.py:226: UserWarning: Workbook contains no default style, apply openpyxl's default\n",
      "  warn(\"Workbook contains no default style, apply openpyxl's default\")\n"
     ]
    },
    {
     "data": {
      "text/plain": [
       "[14604111475106,\n",
       " 430987419014,\n",
       " 321534294310,\n",
       " 401546406146,\n",
       " 209375185867,\n",
       " 216233555580,\n",
       " 144569151705,\n",
       " 18078481907459,\n",
       " 180015166349,\n",
       " 199209194677,\n",
       " 243200268598,\n",
       " 211464189012,\n",
       " 200709186064,\n",
       " 284163291117,\n",
       " 378436399558,\n",
       " 8274682555]"
      ]
     },
     "execution_count": 75,
     "metadata": {},
     "output_type": "execute_result"
    }
   ],
   "source": [
    "p = pd.read_excel(\"./input/연령별인구현황_2020.xlsx\", skiprows=4)\n",
    "list = p.iloc[:, 4:6].sum(axis=1)\n",
    "data = []\n",
    "for i in range(len(p)):\n",
    "    num = list.iloc[i].replace(\",\", \"\")\n",
    "    data.append(int(num))\n",
    "data[5] += data[7]\n",
    "del data[7]\n",
    "data"
   ]
  },
  {
   "cell_type": "code",
   "execution_count": 76,
   "metadata": {},
   "outputs": [
    {
     "name": "stdout",
     "output_type": "stream",
     "text": [
      "[14.9, 15.4, 19.3, 18.4, 17.1, 36.2, 16.8, 17.1, 17.6, 19.7, 16.8, 18.200000000000003, 16.599999999999998, 19.8, 17.8, 21.599999999999998]\n"
     ]
    }
   ],
   "source": [
    "satisfied = pd.read_excel(\"./input/2020/근로_환경_만족도_2020.xlsx\")\n",
    "satisfied = satisfied.drop(columns=\"특성별(1)\", axis=1)\n",
    "satisfied = satisfied.set_index(\"특성별(2)\")\n",
    "\n",
    "satisfied_1 = satisfied.iloc[10:27, -4]\n",
    "satisfied_2 = satisfied.iloc[10:27, -3]\n",
    "\n",
    "total_list = []\n",
    "for i in range(len(satisfied_1)):\n",
    "    total = satisfied_1.iloc[i]+satisfied_2.iloc[i]\n",
    "    total_list.append(total)\n",
    "# 311 49\n",
    "total_list[5]+=total_list[7]\n",
    "del total_list[7]\n",
    "\n",
    "# satisfied_1\n",
    "# satisfied_2\n",
    "\n",
    "print(total_list)"
   ]
  },
  {
   "cell_type": "code",
   "execution_count": 83,
   "metadata": {},
   "outputs": [
    {
     "data": {
      "text/plain": [
       "[7500,\n",
       " 1851,\n",
       " 1666,\n",
       " 3525,\n",
       " 205,\n",
       " 1962,\n",
       " 1894,\n",
       " 11975,\n",
       " 501,\n",
       " 3179,\n",
       " 3434,\n",
       " 1016,\n",
       " 650,\n",
       " 715,\n",
       " 8486,\n",
       " 74]"
      ]
     },
     "execution_count": 83,
     "metadata": {},
     "output_type": "execute_result"
    }
   ],
   "source": [
    "local_people = pd.read_excel(\"./output/지역별_퇴사자3.xlsx\")\n",
    "local_people = local_people.iloc[:, [0, -9, -8, -7]]\n",
    "local_people = local_people.rename(\n",
    "    columns={\"2020.1\": \"경력\", \"2020.2\": \"입사경험\", \"2020.3\": \"신입\"})\n",
    "local_people = local_people.drop(index=0)\n",
    "list = local_people.iloc[1:, 3]\n",
    "new = []\n",
    "for i in range(len(list)):\n",
    "    num_str = list.iloc[i].replace(\",\", \"\")\n",
    "    # print(num_str)\n",
    "    new.append(int(num_str))\n",
    "new"
   ]
  },
  {
   "cell_type": "code",
   "execution_count": 78,
   "metadata": {},
   "outputs": [
    {
     "data": {
      "text/plain": [
       "[1.9197333605532824e-07,\n",
       " 1.136460087676224e-06,\n",
       " 1.8495694254829113e-06,\n",
       " 2.9154787144934377e-06,\n",
       " 8.296112038335731e-07,\n",
       " 2.0463983899866464e-06,\n",
       " 5.6146141166845275e-06,\n",
       " 2.371161484655053e-07,\n",
       " 1.110461990810534e-06,\n",
       " 5.0042870843205035e-06,\n",
       " 4.1455546320407765e-06,\n",
       " 1.4650234701556001e-06,\n",
       " 1.305371244525182e-06,\n",
       " 1.2422434953241638e-06,\n",
       " 8.432856891481165e-06,\n",
       " 2.5982869864909278e-06]"
      ]
     },
     "execution_count": 78,
     "metadata": {},
     "output_type": "execute_result"
    }
   ],
   "source": [
    "# local_people_2020 = pd.read_excel(\"./output/지역별_퇴사자3.xlsx\")\n",
    "# local_people_2020 = local_people_2020.iloc[:, [0, -9, -8, -7]]\n",
    "# local_people_2020 = local_people_2020.rename(\n",
    "#     columns={\"2020.1\": \"경력\", \"2020.2\": \"입사경험\", \"2020.3\": \"신입\"})\n",
    "# local_people_2020 = local_people_2020.drop(index=0)\n",
    "# list_1 = local_people_2020.iloc[1:, 1]\n",
    "# list_2 = local_people_2020.iloc[1:, 2]\n",
    "# list_3 = local_people_2020.iloc[1:, 3]\n",
    "# new_2020 = []\n",
    "# for i in range(len(list_1)):\n",
    "#     num_str_1 = list_1.iloc[i].replace(\",\", \"\")\n",
    "#     num_str_2 = list_2.iloc[i].replace(\",\", \"\")\n",
    "#     num_str_3 = list_3.iloc[i].replace(\",\", \"\")\n",
    "#     # print(num_str)\n",
    "#     new_2020.append((int(num_str_1)+int(num_str_2)+int(num_str_3))/data[i]*100)\n",
    "# # new_2020\n",
    "# # local_people_2020\n",
    "\n",
    "# new_2020"
   ]
  },
  {
   "cell_type": "code",
   "execution_count": 79,
   "metadata": {},
   "outputs": [
    {
     "name": "stdout",
     "output_type": "stream",
     "text": [
      "0.01605866253071251\n"
     ]
    },
    {
     "data": {
      "text/html": [
       "<div>\n",
       "<style scoped>\n",
       "    .dataframe tbody tr th:only-of-type {\n",
       "        vertical-align: middle;\n",
       "    }\n",
       "\n",
       "    .dataframe tbody tr th {\n",
       "        vertical-align: top;\n",
       "    }\n",
       "\n",
       "    .dataframe thead th {\n",
       "        text-align: right;\n",
       "    }\n",
       "</style>\n",
       "<table border=\"1\" class=\"dataframe\">\n",
       "  <thead>\n",
       "    <tr style=\"text-align: right;\">\n",
       "      <th></th>\n",
       "      <th>불만족</th>\n",
       "      <th>신입_퇴사자</th>\n",
       "    </tr>\n",
       "  </thead>\n",
       "  <tbody>\n",
       "    <tr>\n",
       "      <th>0</th>\n",
       "      <td>14.9</td>\n",
       "      <td>1.919733e-07</td>\n",
       "    </tr>\n",
       "    <tr>\n",
       "      <th>1</th>\n",
       "      <td>15.4</td>\n",
       "      <td>1.136460e-06</td>\n",
       "    </tr>\n",
       "    <tr>\n",
       "      <th>2</th>\n",
       "      <td>19.3</td>\n",
       "      <td>1.849569e-06</td>\n",
       "    </tr>\n",
       "    <tr>\n",
       "      <th>3</th>\n",
       "      <td>18.4</td>\n",
       "      <td>2.915479e-06</td>\n",
       "    </tr>\n",
       "    <tr>\n",
       "      <th>4</th>\n",
       "      <td>17.1</td>\n",
       "      <td>8.296112e-07</td>\n",
       "    </tr>\n",
       "    <tr>\n",
       "      <th>5</th>\n",
       "      <td>36.2</td>\n",
       "      <td>2.046398e-06</td>\n",
       "    </tr>\n",
       "    <tr>\n",
       "      <th>6</th>\n",
       "      <td>16.8</td>\n",
       "      <td>5.614614e-06</td>\n",
       "    </tr>\n",
       "    <tr>\n",
       "      <th>7</th>\n",
       "      <td>17.1</td>\n",
       "      <td>2.371161e-07</td>\n",
       "    </tr>\n",
       "    <tr>\n",
       "      <th>8</th>\n",
       "      <td>17.6</td>\n",
       "      <td>1.110462e-06</td>\n",
       "    </tr>\n",
       "    <tr>\n",
       "      <th>9</th>\n",
       "      <td>19.7</td>\n",
       "      <td>5.004287e-06</td>\n",
       "    </tr>\n",
       "    <tr>\n",
       "      <th>10</th>\n",
       "      <td>16.8</td>\n",
       "      <td>4.145555e-06</td>\n",
       "    </tr>\n",
       "    <tr>\n",
       "      <th>11</th>\n",
       "      <td>18.2</td>\n",
       "      <td>1.465023e-06</td>\n",
       "    </tr>\n",
       "    <tr>\n",
       "      <th>12</th>\n",
       "      <td>16.6</td>\n",
       "      <td>1.305371e-06</td>\n",
       "    </tr>\n",
       "    <tr>\n",
       "      <th>13</th>\n",
       "      <td>19.8</td>\n",
       "      <td>1.242243e-06</td>\n",
       "    </tr>\n",
       "    <tr>\n",
       "      <th>14</th>\n",
       "      <td>17.8</td>\n",
       "      <td>8.432857e-06</td>\n",
       "    </tr>\n",
       "    <tr>\n",
       "      <th>15</th>\n",
       "      <td>21.6</td>\n",
       "      <td>2.598287e-06</td>\n",
       "    </tr>\n",
       "  </tbody>\n",
       "</table>\n",
       "</div>"
      ],
      "text/plain": [
       "     불만족        신입_퇴사자\n",
       "0   14.9  1.919733e-07\n",
       "1   15.4  1.136460e-06\n",
       "2   19.3  1.849569e-06\n",
       "3   18.4  2.915479e-06\n",
       "4   17.1  8.296112e-07\n",
       "5   36.2  2.046398e-06\n",
       "6   16.8  5.614614e-06\n",
       "7   17.1  2.371161e-07\n",
       "8   17.6  1.110462e-06\n",
       "9   19.7  5.004287e-06\n",
       "10  16.8  4.145555e-06\n",
       "11  18.2  1.465023e-06\n",
       "12  16.6  1.305371e-06\n",
       "13  19.8  1.242243e-06\n",
       "14  17.8  8.432857e-06\n",
       "15  21.6  2.598287e-06"
      ]
     },
     "execution_count": 79,
     "metadata": {},
     "output_type": "execute_result"
    }
   ],
   "source": [
    "\n",
    "df_not_satisfied = pd.DataFrame({\"불만족\": total_list, \"신입_퇴사자\": new_2020})\n",
    "\n",
    "correlation = df_not_satisfied[\"불만족\"].corr(df_not_satisfied[\"신입_퇴사자\"])\n",
    "print(correlation)\n",
    "df_not_satisfied"
   ]
  },
  {
   "cell_type": "code",
   "execution_count": 80,
   "metadata": {},
   "outputs": [],
   "source": [
    "# import statsmodels.api as sm\n",
    "# mean = int(pd.Series(new).mean()+0.5)\n",
    "# df_high = pd.DataFrame({\"불만족\": total_list, \"신입_퇴사자\": new})\n",
    "# df_high[\"퇴사율\"] = (df_high[\"신입_퇴사자\"] > mean).astype(int)\n",
    "#\n",
    "# X = df_high['불만족']\n",
    "# X = sm.add_constant(X)\n",
    "# Y = df_high['퇴사율']\n",
    "\n",
    "# model = sm.OLS(Y, X).fit()\n",
    "\n",
    "# print(model.summary())"
   ]
  },
  {
   "cell_type": "code",
   "execution_count": 81,
   "metadata": {},
   "outputs": [
    {
     "data": {
      "text/plain": [
       "<Axes: xlabel='불만족', ylabel='신입_퇴사자'>"
      ]
     },
     "execution_count": 81,
     "metadata": {},
     "output_type": "execute_result"
    },
    {
     "name": "stderr",
     "output_type": "stream",
     "text": [
      "c:\\Users\\dawoo\\anaconda3\\Lib\\site-packages\\IPython\\core\\events.py:82: UserWarning: Glyph 8722 (\\N{MINUS SIGN}) missing from current font.\n",
      "  func(*args, **kwargs)\n",
      "c:\\Users\\dawoo\\anaconda3\\Lib\\site-packages\\IPython\\core\\pylabtools.py:170: UserWarning: Glyph 8722 (\\N{MINUS SIGN}) missing from current font.\n",
      "  fig.canvas.print_figure(bytes_io, **kw)\n"
     ]
    },
    {
     "data": {
      "image/png": "[encoded data removed]",
      "text/plain": [
       "<Figure size 640x480 with 1 Axes>"
      ]
     },
     "metadata": {},
     "output_type": "display_data"
    }
   ],
   "source": [
    "import seaborn as sns\n",
    "import matplotlib.pyplot as plt\n",
    "import matplotlib.font_manager as fm\n",
    "font_path = \"C:/Windows/Fonts/malgun.ttf\"\n",
    "font_name = fm.FontProperties(fname=font_path).get_name()\n",
    "plt.rc(\"font\", family=font_name)\n",
    "sns.regplot(x=df_not_satisfied['불만족'], y=df_not_satisfied['신입_퇴사자'])"
   ]
  },
  {
   "cell_type": "code",
   "execution_count": 82,
   "metadata": {},
   "outputs": [
    {
     "data": {
      "text/plain": [
       "<Axes: >"
      ]
     },
     "execution_count": 82,
     "metadata": {},
     "output_type": "execute_result"
    },
    {
     "data": {
      "image/png": "[encoded data removed]",
      "text/plain": [
       "<Figure size 640x480 with 2 Axes>"
      ]
     },
     "metadata": {},
     "output_type": "display_data"
    }
   ],
   "source": [
    "df = pd.DataFrame({\"불만족\": total_list, \"신입_퇴사자\": new})\n",
    "sns.heatmap(data=df, annot=True)"
   ]
  },
  {
   "cell_type": "code",
   "execution_count": null,
   "metadata": {},
   "outputs": [],
   "source": []
  }
 ],
 "metadata": {
  "kernelspec": {
   "display_name": "base",
   "language": "python",
   "name": "python3"
  },
  "language_info": {
   "codemirror_mode": {
    "name": "ipython",
    "version": 3
   },
   "file_extension": ".py",
   "mimetype": "text/x-python",
   "name": "python",
   "nbconvert_exporter": "python",
   "pygments_lexer": "ipython3",
   "version": "3.12.4"
  }
 },
 "nbformat": 4,
 "nbformat_minor": 2
}
