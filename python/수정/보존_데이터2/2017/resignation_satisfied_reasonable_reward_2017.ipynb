{
 "cells": [
  {
   "cell_type": "code",
   "execution_count": 16,
   "metadata": {},
   "outputs": [],
   "source": [
    "import pandas as pd\n",
    "import matplotlib.pyplot as plt\n",
    "import seaborn as sns"
   ]
  },
  {
   "cell_type": "code",
   "execution_count": null,
   "metadata": {},
   "outputs": [],
   "source": [
    "# local_people = pd.read_excel(\"./output/지역별_퇴사자3.xlsx\")\n",
    "# local_people = local_people.iloc[:, [0, -9, -8, -7]]\n",
    "# local_people = local_people.rename(\n",
    "#     columns={\"2020.1\": \"경력\", \"2020.2\": \"입사경험\", \"2020.3\": \"신입\"})\n",
    "# local_people = local_people.drop(index=0)\n",
    "# list = local_people.iloc[1:, 3]\n",
    "# new = []\n",
    "# for i in range(len(list)):\n",
    "#     num_str = list.iloc[i].replace(\",\", \"\")\n",
    "#     # print(num_str)\n",
    "#     new.append(int(num_str))\n",
    "# new"
   ]
  },
  {
   "cell_type": "code",
   "execution_count": 34,
   "metadata": {},
   "outputs": [
    {
     "name": "stderr",
     "output_type": "stream",
     "text": [
      "c:\\Users\\dawoo\\anaconda3\\Lib\\site-packages\\openpyxl\\styles\\stylesheet.py:226: UserWarning: Workbook contains no default style, apply openpyxl's default\n",
      "  warn(\"Workbook contains no default style, apply openpyxl's default\")\n"
     ]
    },
    {
     "data": {
      "text/plain": [
       "[2935517,\n",
       " 850001,\n",
       " 615844,\n",
       " 807692,\n",
       " 395242,\n",
       " 505521,\n",
       " 296274,\n",
       " 3715307,\n",
       " 346364,\n",
       " 393886,\n",
       " 511798,\n",
       " 400476,\n",
       " 386773,\n",
       " 575280,\n",
       " 777994,\n",
       " 165301]"
      ]
     },
     "execution_count": 34,
     "metadata": {},
     "output_type": "execute_result"
    }
   ],
   "source": [
    "# p = pd.read_excel(\"./input/연령별인구현황_2020.xlsx\", skiprows=4)\n",
    "# list_1 = p.iloc[:, 4]\n",
    "# list_2 = p.iloc[:, 5]\n",
    "# data = []\n",
    "# for i in range(len(p)):\n",
    "#     num_1 = list_1.iloc[i].replace(\",\", \"\")\n",
    "#     num_2 = list_2.iloc[i].replace(\",\", \"\")\n",
    "#     data.append(int(num_1)+int(num_2))\n",
    "# data[5]+=data[7]\n",
    "# del data[7]\n",
    "# data"
   ]
  },
  {
   "cell_type": "code",
   "execution_count": 35,
   "metadata": {},
   "outputs": [
    {
     "name": "stderr",
     "output_type": "stream",
     "text": [
      "c:\\Users\\dawoo\\anaconda3\\Lib\\site-packages\\openpyxl\\styles\\stylesheet.py:226: UserWarning: Workbook contains no default style, apply openpyxl's default\n",
      "  warn(\"Workbook contains no default style, apply openpyxl's default\")\n"
     ]
    },
    {
     "data": {
      "text/plain": [
       "[5051000,\n",
       " 1640000,\n",
       " 1184000,\n",
       " 1560000,\n",
       " 748000,\n",
       " 960000,\n",
       " 560000,\n",
       " 6909000,\n",
       " 795000,\n",
       " 890000,\n",
       " 1176000,\n",
       " 932000,\n",
       " 974000,\n",
       " 1418000,\n",
       " 1729000,\n",
       " 378000]"
      ]
     },
     "execution_count": 35,
     "metadata": {},
     "output_type": "execute_result"
    }
   ],
   "source": [
    "p = pd.read_excel(\"./input/행정구역_시도_별_경제활동인구_2020.xlsx\", skiprows=2)\n",
    "list=p.iloc[:,3]*1000\n",
    "\n",
    "data = []\n",
    "for i in range(len(p)):\n",
    "  data.append(list.iloc[i])\n",
    "   \n",
    "data[5]+=data[7]\n",
    "del data[7]\n",
    "data\n"
   ]
  },
  {
   "cell_type": "code",
   "execution_count": 36,
   "metadata": {},
   "outputs": [
    {
     "data": {
      "text/plain": [
       "[0.14848544842605427,\n",
       " 0.11286585365853657,\n",
       " 0.14070945945945945,\n",
       " 0.22596153846153846,\n",
       " 0.027406417112299464,\n",
       " 0.204375,\n",
       " 0.3382142857142857,\n",
       " 0.17332464900853958,\n",
       " 0.06301886792452831,\n",
       " 0.3571910112359551,\n",
       " 0.2920068027210884,\n",
       " 0.10901287553648069,\n",
       " 0.06673511293634497,\n",
       " 0.05042313117066291,\n",
       " 0.49080393290919605,\n",
       " 0.019576719576719574]"
      ]
     },
     "execution_count": 36,
     "metadata": {},
     "output_type": "execute_result"
    }
   ],
   "source": [
    "local_people = pd.read_excel(\"./output/지역별_퇴사자3.xlsx\")\n",
    "local_people = local_people.iloc[:, [0, -9, -8, -7]]\n",
    "local_people = local_people.rename(\n",
    "    columns={\"2020.1\": \"경력\", \"2020.2\": \"입사경험\", \"2020.3\": \"신입\"})\n",
    "local_people = local_people.drop(index=0)\n",
    "list = local_people.iloc[1:, 3]\n",
    "new_2020 = []\n",
    "for i in range(len(list)):\n",
    "    num_str = list.iloc[i].replace(\",\", \"\")\n",
    "    # print(num_str)\n",
    "    new_2020.append(int(num_str)/data[i]*100)\n",
    "new_2020"
   ]
  },
  {
   "cell_type": "code",
   "execution_count": 37,
   "metadata": {},
   "outputs": [
    {
     "data": {
      "text/plain": [
       "[10.8,\n",
       " 16.0,\n",
       " 14.100000000000001,\n",
       " 14.5,\n",
       " 18.3,\n",
       " 22.7,\n",
       " 17.0,\n",
       " 13.9,\n",
       " 21.0,\n",
       " 16.4,\n",
       " 19.0,\n",
       " 16.0,\n",
       " 21.599999999999998,\n",
       " 17.3,\n",
       " 16.1,\n",
       " 29.4]"
      ]
     },
     "execution_count": 37,
     "metadata": {},
     "output_type": "execute_result"
    }
   ],
   "source": [
    "reward = pd.read_excel(\"./input/2020/업무_관련_동의_정도_2020.xlsx\")\n",
    "not_reasonable1 = reward.iloc[11:28, 6:8].sum(axis=1)\n",
    "\n",
    "nrl1 = []\n",
    "for i in range(len(not_reasonable1)):\n",
    "    result = not_reasonable1.iloc[i]\n",
    "    # print(result)\n",
    "    nrl1.append(result)\n",
    "# nrl1\n",
    "nrl1[5] += nrl1[7]\n",
    "del nrl1[7]\n",
    "\n",
    "nrl1"
   ]
  },
  {
   "cell_type": "code",
   "execution_count": 6,
   "metadata": {},
   "outputs": [],
   "source": [
    "# reward = pd.read_excel(\"./input/2020/업무_관련_동의_정도_2020.xlsx\")\n",
    "# total_reward = reward.iloc[11:28, 2]\n",
    "# reasonable1=reward.iloc[11:28,3]\n",
    "\n",
    "\n",
    "# nrl2 = []\n",
    "# for i in range(len(total_reward)):\n",
    "#     result=int((total_reward.iloc[i]*reasonable1.iloc[i])/100+0.5)\n",
    "#     # print(result)\n",
    "#     nrl2.append(result)\n",
    "# # nrl1\n",
    "# nrl2[5]+=nrl2[7]\n",
    "# del nrl2[7]\n",
    "\n",
    "# nrl2\n",
    "# # sample\n",
    "\n"
   ]
  },
  {
   "cell_type": "code",
   "execution_count": 38,
   "metadata": {},
   "outputs": [
    {
     "name": "stdout",
     "output_type": "stream",
     "text": [
      "적절한 보상이 없는 것과 신입 퇴사자의 상관관계 : -0.3217405593987432\n"
     ]
    },
    {
     "data": {
      "text/html": [
       "<div>\n",
       "<style scoped>\n",
       "    .dataframe tbody tr th:only-of-type {\n",
       "        vertical-align: middle;\n",
       "    }\n",
       "\n",
       "    .dataframe tbody tr th {\n",
       "        vertical-align: top;\n",
       "    }\n",
       "\n",
       "    .dataframe thead th {\n",
       "        text-align: right;\n",
       "    }\n",
       "</style>\n",
       "<table border=\"1\" class=\"dataframe\">\n",
       "  <thead>\n",
       "    <tr style=\"text-align: right;\">\n",
       "      <th></th>\n",
       "      <th>적절한_보상_없음</th>\n",
       "      <th>신입_퇴사자</th>\n",
       "    </tr>\n",
       "  </thead>\n",
       "  <tbody>\n",
       "    <tr>\n",
       "      <th>0</th>\n",
       "      <td>10.8</td>\n",
       "      <td>0.148485</td>\n",
       "    </tr>\n",
       "    <tr>\n",
       "      <th>1</th>\n",
       "      <td>16.0</td>\n",
       "      <td>0.112866</td>\n",
       "    </tr>\n",
       "    <tr>\n",
       "      <th>2</th>\n",
       "      <td>14.1</td>\n",
       "      <td>0.140709</td>\n",
       "    </tr>\n",
       "    <tr>\n",
       "      <th>3</th>\n",
       "      <td>14.5</td>\n",
       "      <td>0.225962</td>\n",
       "    </tr>\n",
       "    <tr>\n",
       "      <th>4</th>\n",
       "      <td>18.3</td>\n",
       "      <td>0.027406</td>\n",
       "    </tr>\n",
       "    <tr>\n",
       "      <th>5</th>\n",
       "      <td>22.7</td>\n",
       "      <td>0.204375</td>\n",
       "    </tr>\n",
       "    <tr>\n",
       "      <th>6</th>\n",
       "      <td>17.0</td>\n",
       "      <td>0.338214</td>\n",
       "    </tr>\n",
       "    <tr>\n",
       "      <th>7</th>\n",
       "      <td>13.9</td>\n",
       "      <td>0.173325</td>\n",
       "    </tr>\n",
       "    <tr>\n",
       "      <th>8</th>\n",
       "      <td>21.0</td>\n",
       "      <td>0.063019</td>\n",
       "    </tr>\n",
       "    <tr>\n",
       "      <th>9</th>\n",
       "      <td>16.4</td>\n",
       "      <td>0.357191</td>\n",
       "    </tr>\n",
       "    <tr>\n",
       "      <th>10</th>\n",
       "      <td>19.0</td>\n",
       "      <td>0.292007</td>\n",
       "    </tr>\n",
       "    <tr>\n",
       "      <th>11</th>\n",
       "      <td>16.0</td>\n",
       "      <td>0.109013</td>\n",
       "    </tr>\n",
       "    <tr>\n",
       "      <th>12</th>\n",
       "      <td>21.6</td>\n",
       "      <td>0.066735</td>\n",
       "    </tr>\n",
       "    <tr>\n",
       "      <th>13</th>\n",
       "      <td>17.3</td>\n",
       "      <td>0.050423</td>\n",
       "    </tr>\n",
       "    <tr>\n",
       "      <th>14</th>\n",
       "      <td>16.1</td>\n",
       "      <td>0.490804</td>\n",
       "    </tr>\n",
       "    <tr>\n",
       "      <th>15</th>\n",
       "      <td>29.4</td>\n",
       "      <td>0.019577</td>\n",
       "    </tr>\n",
       "  </tbody>\n",
       "</table>\n",
       "</div>"
      ],
      "text/plain": [
       "    적절한_보상_없음    신입_퇴사자\n",
       "0        10.8  0.148485\n",
       "1        16.0  0.112866\n",
       "2        14.1  0.140709\n",
       "3        14.5  0.225962\n",
       "4        18.3  0.027406\n",
       "5        22.7  0.204375\n",
       "6        17.0  0.338214\n",
       "7        13.9  0.173325\n",
       "8        21.0  0.063019\n",
       "9        16.4  0.357191\n",
       "10       19.0  0.292007\n",
       "11       16.0  0.109013\n",
       "12       21.6  0.066735\n",
       "13       17.3  0.050423\n",
       "14       16.1  0.490804\n",
       "15       29.4  0.019577"
      ]
     },
     "execution_count": 38,
     "metadata": {},
     "output_type": "execute_result"
    }
   ],
   "source": [
    "df_high = pd.DataFrame({\"적절한_보상_없음\": nrl1, \"신입_퇴사자\": new_2020})\n",
    "\n",
    "\n",
    "X = df_high[\"적절한_보상_없음\"]\n",
    "y = df_high[\"신입_퇴사자\"]\n",
    "\n",
    "correlation_not_reasonable_reward = X.corr(y)\n",
    "\n",
    "# print(mean)\n",
    "# print(df)\n",
    "print(f\"적절한 보상이 없는 것과 신입 퇴사자의 상관관계 : {correlation_not_reasonable_reward}\")\n",
    "df_high"
   ]
  },
  {
   "cell_type": "code",
   "execution_count": 39,
   "metadata": {},
   "outputs": [
    {
     "data": {
      "text/plain": [
       "<Axes: xlabel='적절한_보상_없음', ylabel='신입_퇴사자'>"
      ]
     },
     "execution_count": 39,
     "metadata": {},
     "output_type": "execute_result"
    },
    {
     "name": "stderr",
     "output_type": "stream",
     "text": [
      "c:\\Users\\dawoo\\anaconda3\\Lib\\site-packages\\IPython\\core\\events.py:82: UserWarning: Glyph 8722 (\\N{MINUS SIGN}) missing from current font.\n",
      "  func(*args, **kwargs)\n",
      "c:\\Users\\dawoo\\anaconda3\\Lib\\site-packages\\IPython\\core\\pylabtools.py:170: UserWarning: Glyph 8722 (\\N{MINUS SIGN}) missing from current font.\n",
      "  fig.canvas.print_figure(bytes_io, **kw)\n"
     ]
    },
    {
     "data": {
      "image/png": "[encoded data removed]",
      "text/plain": [
       "<Figure size 640x480 with 1 Axes>"
      ]
     },
     "metadata": {},
     "output_type": "display_data"
    }
   ],
   "source": [
    "import seaborn as sns\n",
    "import matplotlib.pyplot as plt\n",
    "import matplotlib.font_manager as fm\n",
    "font_path = \"C:/Windows/Fonts/malgun.ttf\"\n",
    "font_name = fm.FontProperties(fname=font_path).get_name()\n",
    "plt.rc(\"font\", family=font_name)\n",
    "sns.regplot(x=df_high[\"적절한_보상_없음\"], y=df_high['신입_퇴사자'])"
   ]
  },
  {
   "cell_type": "code",
   "execution_count": 37,
   "metadata": {},
   "outputs": [
    {
     "name": "stdout",
     "output_type": "stream",
     "text": [
      "적절한 보상이 있는 것과 신입 퇴사자의 상관관계 : -0.5537861999948858\n"
     ]
    }
   ],
   "source": [
    "mean = int(pd.Series(new).mean()+0.5)\n",
    "\n",
    "df_low = pd.DataFrame({\"적절한_보상_있음\": nrl2, \"신입_퇴사자\": new})\n",
    "df_low[\"퇴사율\"] = (df_low[\"신입_퇴사자\"] < mean).astype(int)\n",
    "\n",
    "X = df_low[\"적절한_보상_있음\"]\n",
    "y = df_low[\"퇴사율\"]\n",
    "\n",
    "correlation_not_reasonable_reward = X.corr(y)\n",
    "\n",
    "\n",
    "print(f\"적절한 보상이 있는 것과 신입 퇴사자의 상관관계 : {correlation_not_reasonable_reward}\")\n"
   ]
  },
  {
   "cell_type": "code",
   "execution_count": 38,
   "metadata": {},
   "outputs": [
    {
     "data": {
      "text/plain": [
       "<Axes: xlabel='적절한_보상_있음', ylabel='퇴사율'>"
      ]
     },
     "execution_count": 38,
     "metadata": {},
     "output_type": "execute_result"
    },
    {
     "name": "stderr",
     "output_type": "stream",
     "text": [
      "c:\\Users\\dawoo\\anaconda3\\Lib\\site-packages\\IPython\\core\\events.py:82: UserWarning: Glyph 8722 (\\N{MINUS SIGN}) missing from current font.\n",
      "  func(*args, **kwargs)\n",
      "c:\\Users\\dawoo\\anaconda3\\Lib\\site-packages\\IPython\\core\\pylabtools.py:170: UserWarning: Glyph 8722 (\\N{MINUS SIGN}) missing from current font.\n",
      "  fig.canvas.print_figure(bytes_io, **kw)\n"
     ]
    },
    {
     "data": {
      "image/png": "[encoded data removed]",
      "text/plain": [
       "<Figure size 640x480 with 1 Axes>"
      ]
     },
     "metadata": {},
     "output_type": "display_data"
    }
   ],
   "source": [
    "import seaborn as sns\n",
    "import matplotlib.pyplot as plt\n",
    "import matplotlib.font_manager as fm\n",
    "font_path = \"C:/Windows/Fonts/malgun.ttf\"\n",
    "font_name = fm.FontProperties(fname=font_path).get_name()\n",
    "plt.rc(\"font\", family=font_name)\n",
    "sns.regplot(x=df_low['적절한_보상_있음'], y=df_low['퇴사율'])"
   ]
  }
 ],
 "metadata": {
  "kernelspec": {
   "display_name": "base",
   "language": "python",
   "name": "python3"
  },
  "language_info": {
   "codemirror_mode": {
    "name": "ipython",
    "version": 3
   },
   "file_extension": ".py",
   "mimetype": "text/x-python",
   "name": "python",
   "nbconvert_exporter": "python",
   "pygments_lexer": "ipython3",
   "version": "3.12.4"
  }
 },
 "nbformat": 4,
 "nbformat_minor": 2
}
