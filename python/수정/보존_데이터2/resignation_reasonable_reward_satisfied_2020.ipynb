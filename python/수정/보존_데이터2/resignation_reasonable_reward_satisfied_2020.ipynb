{
 "cells": [
  {
   "cell_type": "code",
   "execution_count": 1,
   "metadata": {},
   "outputs": [],
   "source": [
    "import pandas as pd\n",
    "import matplotlib.pyplot as plt\n",
    "import seaborn as sns"
   ]
  },
  {
   "cell_type": "code",
   "execution_count": 3,
   "metadata": {},
   "outputs": [
    {
     "data": {
      "text/plain": [
       "[7500,\n",
       " 1851,\n",
       " 1666,\n",
       " 3525,\n",
       " 205,\n",
       " 1962,\n",
       " 1894,\n",
       " 11975,\n",
       " 501,\n",
       " 3179,\n",
       " 3434,\n",
       " 1016,\n",
       " 650,\n",
       " 715,\n",
       " 8486,\n",
       " 74]"
      ]
     },
     "execution_count": 3,
     "metadata": {},
     "output_type": "execute_result"
    }
   ],
   "source": [
    "local_people = pd.read_excel(\"./output/지역별_퇴사자3.xlsx\")\n",
    "local_people = local_people.iloc[:, [0, -9, -8, -7]]\n",
    "local_people = local_people.rename(\n",
    "    columns={\"2020.1\": \"경력\", \"2020.2\": \"입사경험\", \"2020.3\": \"신입\"})\n",
    "local_people = local_people.drop(index=0)\n",
    "list = local_people.iloc[1:, 3]\n",
    "new = []\n",
    "for i in range(len(list)):\n",
    "    num_str = list.iloc[i].replace(\",\", \"\")\n",
    "    # print(num_str)\n",
    "    new.append(int(num_str))\n",
    "new"
   ]
  },
  {
   "cell_type": "code",
   "execution_count": null,
   "metadata": {},
   "outputs": [
    {
     "data": {
      "text/plain": [
       "[1030,\n",
       " 523,\n",
       " 352,\n",
       " 423,\n",
       " 255,\n",
       " 217,\n",
       " 219,\n",
       " 1823,\n",
       " 293,\n",
       " 266,\n",
       " 391,\n",
       " 267,\n",
       " 345,\n",
       " 426,\n",
       " 502,\n",
       " 205]"
      ]
     },
     "execution_count": 69,
     "metadata": {},
     "output_type": "execute_result"
    }
   ],
   "source": [
    "# reward = pd.read_excel(\"./input/2020/업무_관련_동의_정도_2020.xlsx\")\n",
    "# total_reward = reward.iloc[11:28, 2]\n",
    "# not_reasonable1 = reward.iloc[11:28, 6:8].sum(axis=1)\n",
    "\n",
    "# nrl1 = []\n",
    "# for i in range(len(total_reward)):\n",
    "#     result=int((total_reward.iloc[i]*not_reasonable1.iloc[i])/100+0.5)\n",
    "#     # print(result)\n",
    "#     nrl1.append(result)\n",
    "# # nrl1\n",
    "# nrl1[5]+=nrl1[7]\n",
    "# del nrl1[7]\n",
    "\n",
    "# nrl1\n",
    "\n"
   ]
  },
  {
   "cell_type": "code",
   "execution_count": 74,
   "metadata": {},
   "outputs": [
    {
     "data": {
      "text/plain": [
       "[277, 78, 70, 146, 95, 100, 99, 433, 29, 54, 62, 103, 46, 39, 137, 26]"
      ]
     },
     "execution_count": 74,
     "metadata": {},
     "output_type": "execute_result"
    }
   ],
   "source": [
    "reward = pd.read_excel(\"./input/2020/업무_관련_동의_정도_2020.xlsx\")\n",
    "total_reward = reward.iloc[11:28, 2]\n",
    "sample=reward.iloc[11:28,3]\n",
    "not_reasonable1 = reward.iloc[11:28, 6:8].sum(axis=1)\n",
    "\n",
    "nrl1 = []\n",
    "for i in range(len(total_reward)):\n",
    "    result=int((total_reward.iloc[i]*sample.iloc[i])/100+0.5)\n",
    "    # print(result)\n",
    "    nrl1.append(result)\n",
    "# nrl1\n",
    "nrl1[5]+=nrl1[7]\n",
    "del nrl1[7]\n",
    "\n",
    "nrl1\n",
    "# sample\n",
    "\n"
   ]
  },
  {
   "cell_type": "code",
   "execution_count": 73,
   "metadata": {},
   "outputs": [
    {
     "name": "stdout",
     "output_type": "stream",
     "text": [
      "낮은 근무시간과 퇴사자 수의 상관관계 : 0.8784289075449888\n"
     ]
    },
    {
     "data": {
      "text/html": [
       "<div>\n",
       "<style scoped>\n",
       "    .dataframe tbody tr th:only-of-type {\n",
       "        vertical-align: middle;\n",
       "    }\n",
       "\n",
       "    .dataframe tbody tr th {\n",
       "        vertical-align: top;\n",
       "    }\n",
       "\n",
       "    .dataframe thead th {\n",
       "        text-align: right;\n",
       "    }\n",
       "</style>\n",
       "<table border=\"1\" class=\"dataframe\">\n",
       "  <thead>\n",
       "    <tr style=\"text-align: right;\">\n",
       "      <th></th>\n",
       "      <th>적절한_보상_없음</th>\n",
       "      <th>신입_퇴사자</th>\n",
       "    </tr>\n",
       "  </thead>\n",
       "  <tbody>\n",
       "    <tr>\n",
       "      <th>0</th>\n",
       "      <td>277</td>\n",
       "      <td>7500</td>\n",
       "    </tr>\n",
       "    <tr>\n",
       "      <th>1</th>\n",
       "      <td>78</td>\n",
       "      <td>1851</td>\n",
       "    </tr>\n",
       "    <tr>\n",
       "      <th>2</th>\n",
       "      <td>70</td>\n",
       "      <td>1666</td>\n",
       "    </tr>\n",
       "    <tr>\n",
       "      <th>3</th>\n",
       "      <td>146</td>\n",
       "      <td>3525</td>\n",
       "    </tr>\n",
       "    <tr>\n",
       "      <th>4</th>\n",
       "      <td>95</td>\n",
       "      <td>205</td>\n",
       "    </tr>\n",
       "    <tr>\n",
       "      <th>5</th>\n",
       "      <td>100</td>\n",
       "      <td>1962</td>\n",
       "    </tr>\n",
       "    <tr>\n",
       "      <th>6</th>\n",
       "      <td>99</td>\n",
       "      <td>1894</td>\n",
       "    </tr>\n",
       "    <tr>\n",
       "      <th>7</th>\n",
       "      <td>433</td>\n",
       "      <td>11975</td>\n",
       "    </tr>\n",
       "    <tr>\n",
       "      <th>8</th>\n",
       "      <td>29</td>\n",
       "      <td>501</td>\n",
       "    </tr>\n",
       "    <tr>\n",
       "      <th>9</th>\n",
       "      <td>54</td>\n",
       "      <td>3179</td>\n",
       "    </tr>\n",
       "    <tr>\n",
       "      <th>10</th>\n",
       "      <td>62</td>\n",
       "      <td>3434</td>\n",
       "    </tr>\n",
       "    <tr>\n",
       "      <th>11</th>\n",
       "      <td>103</td>\n",
       "      <td>1016</td>\n",
       "    </tr>\n",
       "    <tr>\n",
       "      <th>12</th>\n",
       "      <td>46</td>\n",
       "      <td>650</td>\n",
       "    </tr>\n",
       "    <tr>\n",
       "      <th>13</th>\n",
       "      <td>39</td>\n",
       "      <td>715</td>\n",
       "    </tr>\n",
       "    <tr>\n",
       "      <th>14</th>\n",
       "      <td>137</td>\n",
       "      <td>8486</td>\n",
       "    </tr>\n",
       "    <tr>\n",
       "      <th>15</th>\n",
       "      <td>26</td>\n",
       "      <td>74</td>\n",
       "    </tr>\n",
       "  </tbody>\n",
       "</table>\n",
       "</div>"
      ],
      "text/plain": [
       "    적절한_보상_없음  신입_퇴사자\n",
       "0         277    7500\n",
       "1          78    1851\n",
       "2          70    1666\n",
       "3         146    3525\n",
       "4          95     205\n",
       "5         100    1962\n",
       "6          99    1894\n",
       "7         433   11975\n",
       "8          29     501\n",
       "9          54    3179\n",
       "10         62    3434\n",
       "11        103    1016\n",
       "12         46     650\n",
       "13         39     715\n",
       "14        137    8486\n",
       "15         26      74"
      ]
     },
     "execution_count": 73,
     "metadata": {},
     "output_type": "execute_result"
    }
   ],
   "source": [
    "df = pd.DataFrame({\"적절한_보상_없음\": nrl1, \"신입_퇴사자\": new})\n",
    "correlation_not_reasonable_reward = df[\"적절한_보상_없음\"].corr(df[\"신입_퇴사자\"])\n",
    "print(f\"낮은 근무시간과 퇴사자 수의 상관관계 : {correlation_not_reasonable_reward}\")\n",
    "df"
   ]
  },
  {
   "cell_type": "code",
   "execution_count": 70,
   "metadata": {},
   "outputs": [
    {
     "name": "stdout",
     "output_type": "stream",
     "text": [
      "                            OLS Regression Results                            \n",
      "==============================================================================\n",
      "Dep. Variable:                 신입_퇴사자   R-squared:                       0.731\n",
      "Model:                            OLS   Adj. R-squared:                  0.712\n",
      "Method:                 Least Squares   F-statistic:                     38.01\n",
      "Date:                Sat, 28 Dec 2024   Prob (F-statistic):           2.46e-05\n",
      "Time:                        10:09:24   Log-Likelihood:                -141.82\n",
      "No. Observations:                  16   AIC:                             287.6\n",
      "Df Residuals:                      14   BIC:                             289.2\n",
      "Df Model:                           1                                         \n",
      "Covariance Type:            nonrobust                                         \n",
      "==============================================================================\n",
      "                 coef    std err          t      P>|t|      [0.025      0.975]\n",
      "------------------------------------------------------------------------------\n",
      "const       -290.4407    707.775     -0.410      0.688   -1808.467    1227.586\n",
      "적절한_보상_없음      7.0691      1.147      6.165      0.000       4.610       9.528\n",
      "==============================================================================\n",
      "Omnibus:                       14.551   Durbin-Watson:                   2.606\n",
      "Prob(Omnibus):                  0.001   Jarque-Bera (JB):               11.816\n",
      "Skew:                           1.592   Prob(JB):                      0.00272\n",
      "Kurtosis:                       5.753   Cond. No.                         955.\n",
      "==============================================================================\n",
      "\n",
      "Notes:\n",
      "[1] Standard Errors assume that the covariance matrix of the errors is correctly specified.\n"
     ]
    },
    {
     "name": "stderr",
     "output_type": "stream",
     "text": [
      "c:\\Users\\dawoo\\anaconda3\\Lib\\site-packages\\scipy\\stats\\_axis_nan_policy.py:531: UserWarning: kurtosistest only valid for n>=20 ... continuing anyway, n=16\n",
      "  res = hypotest_fun_out(*samples, **kwds)\n"
     ]
    }
   ],
   "source": [
    "import statsmodels.api as sm\n",
    "\n",
    "df = pd.DataFrame({\"적절한_보상_없음\": nrl1, \"신입_퇴사자\": new})\n",
    "correlation_not_reasonable_reward = df[\"적절한_보상_없음\"].corr(df[\"신입_퇴사자\"])\n",
    "# print(correlation)\n",
    "\n",
    "X = df['적절한_보상_없음']\n",
    "X = sm.add_constant(X)\n",
    "Y = df['신입_퇴사자']\n",
    "\n",
    "model = sm.OLS(Y, X).fit()\n",
    "\n",
    "print(model.summary())"
   ]
  },
  {
   "cell_type": "code",
   "execution_count": 68,
   "metadata": {},
   "outputs": [
    {
     "name": "stdout",
     "output_type": "stream",
     "text": [
      "                            OLS Regression Results                            \n",
      "==============================================================================\n",
      "Dep. Variable:                 신입_퇴사자   R-squared:                       0.772\n",
      "Model:                            OLS   Adj. R-squared:                  0.755\n",
      "Method:                 Least Squares   F-statistic:                     47.31\n",
      "Date:                Sat, 28 Dec 2024   Prob (F-statistic):           7.59e-06\n",
      "Time:                        10:09:07   Log-Likelihood:                -140.51\n",
      "No. Observations:                  16   AIC:                             285.0\n",
      "Df Residuals:                      14   BIC:                             286.6\n",
      "Df Model:                           1                                         \n",
      "Covariance Type:            nonrobust                                         \n",
      "==============================================================================\n",
      "                 coef    std err          t      P>|t|      [0.025      0.975]\n",
      "------------------------------------------------------------------------------\n",
      "const       -154.8373    627.027     -0.247      0.809   -1499.677    1190.002\n",
      "적절한_보상_있음     28.4896      4.142      6.878      0.000      19.606      37.374\n",
      "==============================================================================\n",
      "Omnibus:                       14.346   Durbin-Watson:                   1.943\n",
      "Prob(Omnibus):                  0.001   Jarque-Bera (JB):               11.567\n",
      "Skew:                           1.572   Prob(JB):                      0.00308\n",
      "Kurtosis:                       5.732   Cond. No.                         225.\n",
      "==============================================================================\n",
      "\n",
      "Notes:\n",
      "[1] Standard Errors assume that the covariance matrix of the errors is correctly specified.\n"
     ]
    },
    {
     "name": "stderr",
     "output_type": "stream",
     "text": [
      "c:\\Users\\dawoo\\anaconda3\\Lib\\site-packages\\scipy\\stats\\_axis_nan_policy.py:531: UserWarning: kurtosistest only valid for n>=20 ... continuing anyway, n=16\n",
      "  res = hypotest_fun_out(*samples, **kwds)\n"
     ]
    }
   ],
   "source": [
    "import statsmodels.api as sm\n",
    "\n",
    "df = pd.DataFrame({\"적절한_보상_있음\": nrl1, \"신입_퇴사자\": new})\n",
    "correlation_not_reasonable_reward = df[\"적절한_보상_있음\"].corr(df[\"신입_퇴사자\"])\n",
    "# print(correlation)\n",
    "\n",
    "X = df['적절한_보상_있음']\n",
    "X = sm.add_constant(X)\n",
    "Y = df['신입_퇴사자']\n",
    "\n",
    "model = sm.OLS(Y, X).fit()\n",
    "\n",
    "print(model.summary())"
   ]
  }
 ],
 "metadata": {
  "kernelspec": {
   "display_name": "base",
   "language": "python",
   "name": "python3"
  },
  "language_info": {
   "codemirror_mode": {
    "name": "ipython",
    "version": 3
   },
   "file_extension": ".py",
   "mimetype": "text/x-python",
   "name": "python",
   "nbconvert_exporter": "python",
   "pygments_lexer": "ipython3",
   "version": "3.12.4"
  }
 },
 "nbformat": 4,
 "nbformat_minor": 2
}
